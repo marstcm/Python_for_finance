{
 "cells": [
  {
   "cell_type": "code",
   "execution_count": 1,
   "metadata": {},
   "outputs": [],
   "source": [
    "import numpy as np\n",
    "import pandas as pd"
   ]
  },
  {
   "cell_type": "markdown",
   "metadata": {},
   "source": [
    "Pandas基础"
   ]
  },
  {
   "cell_type": "code",
   "execution_count": 2,
   "metadata": {},
   "outputs": [
    {
     "data": {
      "text/html": [
       "<div>\n",
       "<style scoped>\n",
       "    .dataframe tbody tr th:only-of-type {\n",
       "        vertical-align: middle;\n",
       "    }\n",
       "\n",
       "    .dataframe tbody tr th {\n",
       "        vertical-align: top;\n",
       "    }\n",
       "\n",
       "    .dataframe thead th {\n",
       "        text-align: right;\n",
       "    }\n",
       "</style>\n",
       "<table border=\"1\" class=\"dataframe\">\n",
       "  <thead>\n",
       "    <tr style=\"text-align: right;\">\n",
       "      <th></th>\n",
       "      <th>numbers</th>\n",
       "    </tr>\n",
       "  </thead>\n",
       "  <tbody>\n",
       "    <tr>\n",
       "      <td>a</td>\n",
       "      <td>10</td>\n",
       "    </tr>\n",
       "    <tr>\n",
       "      <td>b</td>\n",
       "      <td>20</td>\n",
       "    </tr>\n",
       "    <tr>\n",
       "      <td>c</td>\n",
       "      <td>30</td>\n",
       "    </tr>\n",
       "    <tr>\n",
       "      <td>d</td>\n",
       "      <td>40</td>\n",
       "    </tr>\n",
       "  </tbody>\n",
       "</table>\n",
       "</div>"
      ],
      "text/plain": [
       "   numbers\n",
       "a       10\n",
       "b       20\n",
       "c       30\n",
       "d       40"
      ]
     },
     "execution_count": 2,
     "metadata": {},
     "output_type": "execute_result"
    }
   ],
   "source": [
    "#使用DataFrame类的第一步\n",
    "df= pd.DataFrame([10,20,30,40],columns=['numbers'],\n",
    "                index=['a','b','c','d'])\n",
    "df"
   ]
  },
  {
   "cell_type": "code",
   "execution_count": 3,
   "metadata": {},
   "outputs": [
    {
     "data": {
      "text/plain": [
       "Index(['a', 'b', 'c', 'd'], dtype='object')"
      ]
     },
     "execution_count": 3,
     "metadata": {},
     "output_type": "execute_result"
    }
   ],
   "source": [
    "df.index"
   ]
  },
  {
   "cell_type": "code",
   "execution_count": 4,
   "metadata": {},
   "outputs": [
    {
     "data": {
      "text/plain": [
       "Index(['numbers'], dtype='object')"
      ]
     },
     "execution_count": 4,
     "metadata": {},
     "output_type": "execute_result"
    }
   ],
   "source": [
    "df.columns"
   ]
  },
  {
   "cell_type": "code",
   "execution_count": 5,
   "metadata": {},
   "outputs": [
    {
     "data": {
      "text/plain": [
       "numbers    30\n",
       "Name: c, dtype: int64"
      ]
     },
     "execution_count": 5,
     "metadata": {},
     "output_type": "execute_result"
    }
   ],
   "source": [
    "df.loc['c']    #same as old version:df.ix['c']"
   ]
  },
  {
   "cell_type": "code",
   "execution_count": 6,
   "metadata": {},
   "outputs": [
    {
     "data": {
      "text/html": [
       "<div>\n",
       "<style scoped>\n",
       "    .dataframe tbody tr th:only-of-type {\n",
       "        vertical-align: middle;\n",
       "    }\n",
       "\n",
       "    .dataframe tbody tr th {\n",
       "        vertical-align: top;\n",
       "    }\n",
       "\n",
       "    .dataframe thead th {\n",
       "        text-align: right;\n",
       "    }\n",
       "</style>\n",
       "<table border=\"1\" class=\"dataframe\">\n",
       "  <thead>\n",
       "    <tr style=\"text-align: right;\">\n",
       "      <th></th>\n",
       "      <th>numbers</th>\n",
       "    </tr>\n",
       "  </thead>\n",
       "  <tbody>\n",
       "    <tr>\n",
       "      <td>a</td>\n",
       "      <td>10</td>\n",
       "    </tr>\n",
       "    <tr>\n",
       "      <td>d</td>\n",
       "      <td>40</td>\n",
       "    </tr>\n",
       "  </tbody>\n",
       "</table>\n",
       "</div>"
      ],
      "text/plain": [
       "   numbers\n",
       "a       10\n",
       "d       40"
      ]
     },
     "execution_count": 6,
     "metadata": {},
     "output_type": "execute_result"
    }
   ],
   "source": [
    "df.loc[['a','d']]"
   ]
  },
  {
   "cell_type": "code",
   "execution_count": 7,
   "metadata": {},
   "outputs": [
    {
     "data": {
      "text/html": [
       "<div>\n",
       "<style scoped>\n",
       "    .dataframe tbody tr th:only-of-type {\n",
       "        vertical-align: middle;\n",
       "    }\n",
       "\n",
       "    .dataframe tbody tr th {\n",
       "        vertical-align: top;\n",
       "    }\n",
       "\n",
       "    .dataframe thead th {\n",
       "        text-align: right;\n",
       "    }\n",
       "</style>\n",
       "<table border=\"1\" class=\"dataframe\">\n",
       "  <thead>\n",
       "    <tr style=\"text-align: right;\">\n",
       "      <th></th>\n",
       "      <th>numbers</th>\n",
       "    </tr>\n",
       "  </thead>\n",
       "  <tbody>\n",
       "    <tr>\n",
       "      <td>b</td>\n",
       "      <td>20</td>\n",
       "    </tr>\n",
       "    <tr>\n",
       "      <td>c</td>\n",
       "      <td>30</td>\n",
       "    </tr>\n",
       "  </tbody>\n",
       "</table>\n",
       "</div>"
      ],
      "text/plain": [
       "   numbers\n",
       "b       20\n",
       "c       30"
      ]
     },
     "execution_count": 7,
     "metadata": {},
     "output_type": "execute_result"
    }
   ],
   "source": [
    "df.loc[df.index[1:3]]"
   ]
  },
  {
   "cell_type": "code",
   "execution_count": 8,
   "metadata": {},
   "outputs": [
    {
     "data": {
      "text/plain": [
       "numbers    100\n",
       "dtype: int64"
      ]
     },
     "execution_count": 8,
     "metadata": {},
     "output_type": "execute_result"
    }
   ],
   "source": [
    "df.sum()"
   ]
  },
  {
   "cell_type": "code",
   "execution_count": 9,
   "metadata": {},
   "outputs": [
    {
     "data": {
      "text/html": [
       "<div>\n",
       "<style scoped>\n",
       "    .dataframe tbody tr th:only-of-type {\n",
       "        vertical-align: middle;\n",
       "    }\n",
       "\n",
       "    .dataframe tbody tr th {\n",
       "        vertical-align: top;\n",
       "    }\n",
       "\n",
       "    .dataframe thead th {\n",
       "        text-align: right;\n",
       "    }\n",
       "</style>\n",
       "<table border=\"1\" class=\"dataframe\">\n",
       "  <thead>\n",
       "    <tr style=\"text-align: right;\">\n",
       "      <th></th>\n",
       "      <th>numbers</th>\n",
       "    </tr>\n",
       "  </thead>\n",
       "  <tbody>\n",
       "    <tr>\n",
       "      <td>a</td>\n",
       "      <td>100</td>\n",
       "    </tr>\n",
       "    <tr>\n",
       "      <td>b</td>\n",
       "      <td>400</td>\n",
       "    </tr>\n",
       "    <tr>\n",
       "      <td>c</td>\n",
       "      <td>900</td>\n",
       "    </tr>\n",
       "    <tr>\n",
       "      <td>d</td>\n",
       "      <td>1600</td>\n",
       "    </tr>\n",
       "  </tbody>\n",
       "</table>\n",
       "</div>"
      ],
      "text/plain": [
       "   numbers\n",
       "a      100\n",
       "b      400\n",
       "c      900\n",
       "d     1600"
      ]
     },
     "execution_count": 9,
     "metadata": {},
     "output_type": "execute_result"
    }
   ],
   "source": [
    "df.apply(lambda x:x**2)   #same as df**2"
   ]
  },
  {
   "cell_type": "code",
   "execution_count": 10,
   "metadata": {},
   "outputs": [
    {
     "data": {
      "text/html": [
       "<div>\n",
       "<style scoped>\n",
       "    .dataframe tbody tr th:only-of-type {\n",
       "        vertical-align: middle;\n",
       "    }\n",
       "\n",
       "    .dataframe tbody tr th {\n",
       "        vertical-align: top;\n",
       "    }\n",
       "\n",
       "    .dataframe thead th {\n",
       "        text-align: right;\n",
       "    }\n",
       "</style>\n",
       "<table border=\"1\" class=\"dataframe\">\n",
       "  <thead>\n",
       "    <tr style=\"text-align: right;\">\n",
       "      <th></th>\n",
       "      <th>numbers</th>\n",
       "      <th>floats</th>\n",
       "    </tr>\n",
       "  </thead>\n",
       "  <tbody>\n",
       "    <tr>\n",
       "      <td>a</td>\n",
       "      <td>10</td>\n",
       "      <td>1.5</td>\n",
       "    </tr>\n",
       "    <tr>\n",
       "      <td>b</td>\n",
       "      <td>20</td>\n",
       "      <td>2.5</td>\n",
       "    </tr>\n",
       "    <tr>\n",
       "      <td>c</td>\n",
       "      <td>30</td>\n",
       "      <td>3.5</td>\n",
       "    </tr>\n",
       "    <tr>\n",
       "      <td>d</td>\n",
       "      <td>40</td>\n",
       "      <td>4.5</td>\n",
       "    </tr>\n",
       "  </tbody>\n",
       "</table>\n",
       "</div>"
      ],
      "text/plain": [
       "   numbers  floats\n",
       "a       10     1.5\n",
       "b       20     2.5\n",
       "c       30     3.5\n",
       "d       40     4.5"
      ]
     },
     "execution_count": 10,
     "metadata": {},
     "output_type": "execute_result"
    }
   ],
   "source": [
    "df['floats']=(1.5,2.5,3.5,4.5)\n",
    "df"
   ]
  },
  {
   "cell_type": "code",
   "execution_count": 11,
   "metadata": {},
   "outputs": [
    {
     "data": {
      "text/html": [
       "<div>\n",
       "<style scoped>\n",
       "    .dataframe tbody tr th:only-of-type {\n",
       "        vertical-align: middle;\n",
       "    }\n",
       "\n",
       "    .dataframe tbody tr th {\n",
       "        vertical-align: top;\n",
       "    }\n",
       "\n",
       "    .dataframe thead th {\n",
       "        text-align: right;\n",
       "    }\n",
       "</style>\n",
       "<table border=\"1\" class=\"dataframe\">\n",
       "  <thead>\n",
       "    <tr style=\"text-align: right;\">\n",
       "      <th></th>\n",
       "      <th>numbers</th>\n",
       "      <th>floats</th>\n",
       "      <th>name</th>\n",
       "    </tr>\n",
       "  </thead>\n",
       "  <tbody>\n",
       "    <tr>\n",
       "      <td>a</td>\n",
       "      <td>10</td>\n",
       "      <td>1.5</td>\n",
       "      <td>Guido</td>\n",
       "    </tr>\n",
       "    <tr>\n",
       "      <td>b</td>\n",
       "      <td>20</td>\n",
       "      <td>2.5</td>\n",
       "      <td>Felix</td>\n",
       "    </tr>\n",
       "    <tr>\n",
       "      <td>c</td>\n",
       "      <td>30</td>\n",
       "      <td>3.5</td>\n",
       "      <td>Francesc</td>\n",
       "    </tr>\n",
       "    <tr>\n",
       "      <td>d</td>\n",
       "      <td>40</td>\n",
       "      <td>4.5</td>\n",
       "      <td>Yves</td>\n",
       "    </tr>\n",
       "  </tbody>\n",
       "</table>\n",
       "</div>"
      ],
      "text/plain": [
       "   numbers  floats      name\n",
       "a       10     1.5     Guido\n",
       "b       20     2.5     Felix\n",
       "c       30     3.5  Francesc\n",
       "d       40     4.5      Yves"
      ]
     },
     "execution_count": 11,
     "metadata": {},
     "output_type": "execute_result"
    }
   ],
   "source": [
    "df['name'] = pd.DataFrame(['Yves','Guido','Felix','Francesc'],\n",
    "                          index=['d','a','b','c'])\n",
    "df"
   ]
  },
  {
   "cell_type": "code",
   "execution_count": 12,
   "metadata": {},
   "outputs": [
    {
     "data": {
      "text/html": [
       "<div>\n",
       "<style scoped>\n",
       "    .dataframe tbody tr th:only-of-type {\n",
       "        vertical-align: middle;\n",
       "    }\n",
       "\n",
       "    .dataframe tbody tr th {\n",
       "        vertical-align: top;\n",
       "    }\n",
       "\n",
       "    .dataframe thead th {\n",
       "        text-align: right;\n",
       "    }\n",
       "</style>\n",
       "<table border=\"1\" class=\"dataframe\">\n",
       "  <thead>\n",
       "    <tr style=\"text-align: right;\">\n",
       "      <th></th>\n",
       "      <th>numbers</th>\n",
       "      <th>floats</th>\n",
       "      <th>name</th>\n",
       "      <th>names</th>\n",
       "    </tr>\n",
       "  </thead>\n",
       "  <tbody>\n",
       "    <tr>\n",
       "      <td>0</td>\n",
       "      <td>10</td>\n",
       "      <td>1.50</td>\n",
       "      <td>Guido</td>\n",
       "      <td>NaN</td>\n",
       "    </tr>\n",
       "    <tr>\n",
       "      <td>1</td>\n",
       "      <td>20</td>\n",
       "      <td>2.50</td>\n",
       "      <td>Felix</td>\n",
       "      <td>NaN</td>\n",
       "    </tr>\n",
       "    <tr>\n",
       "      <td>2</td>\n",
       "      <td>30</td>\n",
       "      <td>3.50</td>\n",
       "      <td>Francesc</td>\n",
       "      <td>NaN</td>\n",
       "    </tr>\n",
       "    <tr>\n",
       "      <td>3</td>\n",
       "      <td>40</td>\n",
       "      <td>4.50</td>\n",
       "      <td>Yves</td>\n",
       "      <td>NaN</td>\n",
       "    </tr>\n",
       "    <tr>\n",
       "      <td>4</td>\n",
       "      <td>100</td>\n",
       "      <td>5.75</td>\n",
       "      <td>NaN</td>\n",
       "      <td>Henry</td>\n",
       "    </tr>\n",
       "  </tbody>\n",
       "</table>\n",
       "</div>"
      ],
      "text/plain": [
       "   numbers  floats      name  names\n",
       "0       10    1.50     Guido    NaN\n",
       "1       20    2.50     Felix    NaN\n",
       "2       30    3.50  Francesc    NaN\n",
       "3       40    4.50      Yves    NaN\n",
       "4      100    5.75       NaN  Henry"
      ]
     },
     "execution_count": 12,
     "metadata": {},
     "output_type": "execute_result"
    }
   ],
   "source": [
    "df.append({'numbers':100, 'floats':5.75,'names':'Henry'},\n",
    "          ignore_index=True)"
   ]
  },
  {
   "cell_type": "code",
   "execution_count": 13,
   "metadata": {},
   "outputs": [
    {
     "data": {
      "text/html": [
       "<div>\n",
       "<style scoped>\n",
       "    .dataframe tbody tr th:only-of-type {\n",
       "        vertical-align: middle;\n",
       "    }\n",
       "\n",
       "    .dataframe tbody tr th {\n",
       "        vertical-align: top;\n",
       "    }\n",
       "\n",
       "    .dataframe thead th {\n",
       "        text-align: right;\n",
       "    }\n",
       "</style>\n",
       "<table border=\"1\" class=\"dataframe\">\n",
       "  <thead>\n",
       "    <tr style=\"text-align: right;\">\n",
       "      <th></th>\n",
       "      <th>numbers</th>\n",
       "      <th>floats</th>\n",
       "      <th>name</th>\n",
       "      <th>squares</th>\n",
       "    </tr>\n",
       "  </thead>\n",
       "  <tbody>\n",
       "    <tr>\n",
       "      <td>a</td>\n",
       "      <td>10</td>\n",
       "      <td>1.5</td>\n",
       "      <td>Guido</td>\n",
       "      <td>1</td>\n",
       "    </tr>\n",
       "    <tr>\n",
       "      <td>b</td>\n",
       "      <td>20</td>\n",
       "      <td>2.5</td>\n",
       "      <td>Felix</td>\n",
       "      <td>4</td>\n",
       "    </tr>\n",
       "    <tr>\n",
       "      <td>c</td>\n",
       "      <td>30</td>\n",
       "      <td>3.5</td>\n",
       "      <td>Francesc</td>\n",
       "      <td>9</td>\n",
       "    </tr>\n",
       "    <tr>\n",
       "      <td>d</td>\n",
       "      <td>40</td>\n",
       "      <td>4.5</td>\n",
       "      <td>Yves</td>\n",
       "      <td>16</td>\n",
       "    </tr>\n",
       "  </tbody>\n",
       "</table>\n",
       "</div>"
      ],
      "text/plain": [
       "   numbers  floats      name  squares\n",
       "a       10     1.5     Guido        1\n",
       "b       20     2.5     Felix        4\n",
       "c       30     3.5  Francesc        9\n",
       "d       40     4.5      Yves       16"
      ]
     },
     "execution_count": 13,
     "metadata": {},
     "output_type": "execute_result"
    }
   ],
   "source": [
    "df.join(pd.DataFrame([1,4,9,16,25],\n",
    "                    index=['a','b','c','d','y'],\n",
    "                    columns=['squares',]))"
   ]
  },
  {
   "cell_type": "code",
   "execution_count": 14,
   "metadata": {},
   "outputs": [
    {
     "data": {
      "text/plain": [
       "numbers    25.0\n",
       "dtype: float64"
      ]
     },
     "execution_count": 14,
     "metadata": {},
     "output_type": "execute_result"
    }
   ],
   "source": [
    "df[['numbers']].mean()"
   ]
  },
  {
   "cell_type": "code",
   "execution_count": 15,
   "metadata": {},
   "outputs": [
    {
     "data": {
      "text/plain": [
       "array([[ 0.869539,  0.004665, -0.269643,  0.082639],\n",
       "       [ 0.115355,  0.574979,  0.183674,  0.031997],\n",
       "       [ 0.49848 , -0.655537, -0.020022,  0.207956],\n",
       "       [ 0.302111, -1.044944, -0.862543, -1.390576],\n",
       "       [-0.066668, -1.267755, -0.193117,  0.919919],\n",
       "       [-0.625026, -0.164235,  0.614906, -0.971418],\n",
       "       [ 1.231784, -0.244755, -0.304882,  1.183197],\n",
       "       [ 0.012447,  0.849791, -0.208344,  0.878664],\n",
       "       [-0.423518, -0.657063, -0.431102, -1.818779]])"
      ]
     },
     "execution_count": 15,
     "metadata": {},
     "output_type": "execute_result"
    }
   ],
   "source": [
    "#使用DataFrame类的第二步\n",
    "a=np.random.standard_normal((9,4))\n",
    "a.round(6)"
   ]
  },
  {
   "cell_type": "code",
   "execution_count": 16,
   "metadata": {},
   "outputs": [
    {
     "data": {
      "text/html": [
       "<div>\n",
       "<style scoped>\n",
       "    .dataframe tbody tr th:only-of-type {\n",
       "        vertical-align: middle;\n",
       "    }\n",
       "\n",
       "    .dataframe tbody tr th {\n",
       "        vertical-align: top;\n",
       "    }\n",
       "\n",
       "    .dataframe thead th {\n",
       "        text-align: right;\n",
       "    }\n",
       "</style>\n",
       "<table border=\"1\" class=\"dataframe\">\n",
       "  <thead>\n",
       "    <tr style=\"text-align: right;\">\n",
       "      <th></th>\n",
       "      <th>0</th>\n",
       "      <th>1</th>\n",
       "      <th>2</th>\n",
       "      <th>3</th>\n",
       "    </tr>\n",
       "  </thead>\n",
       "  <tbody>\n",
       "    <tr>\n",
       "      <td>0</td>\n",
       "      <td>0.869539</td>\n",
       "      <td>0.004665</td>\n",
       "      <td>-0.269643</td>\n",
       "      <td>0.082639</td>\n",
       "    </tr>\n",
       "    <tr>\n",
       "      <td>1</td>\n",
       "      <td>0.115355</td>\n",
       "      <td>0.574979</td>\n",
       "      <td>0.183674</td>\n",
       "      <td>0.031997</td>\n",
       "    </tr>\n",
       "    <tr>\n",
       "      <td>2</td>\n",
       "      <td>0.498480</td>\n",
       "      <td>-0.655537</td>\n",
       "      <td>-0.020022</td>\n",
       "      <td>0.207956</td>\n",
       "    </tr>\n",
       "    <tr>\n",
       "      <td>3</td>\n",
       "      <td>0.302111</td>\n",
       "      <td>-1.044944</td>\n",
       "      <td>-0.862543</td>\n",
       "      <td>-1.390576</td>\n",
       "    </tr>\n",
       "    <tr>\n",
       "      <td>4</td>\n",
       "      <td>-0.066668</td>\n",
       "      <td>-1.267755</td>\n",
       "      <td>-0.193117</td>\n",
       "      <td>0.919919</td>\n",
       "    </tr>\n",
       "    <tr>\n",
       "      <td>5</td>\n",
       "      <td>-0.625026</td>\n",
       "      <td>-0.164235</td>\n",
       "      <td>0.614906</td>\n",
       "      <td>-0.971418</td>\n",
       "    </tr>\n",
       "    <tr>\n",
       "      <td>6</td>\n",
       "      <td>1.231784</td>\n",
       "      <td>-0.244755</td>\n",
       "      <td>-0.304882</td>\n",
       "      <td>1.183197</td>\n",
       "    </tr>\n",
       "    <tr>\n",
       "      <td>7</td>\n",
       "      <td>0.012447</td>\n",
       "      <td>0.849791</td>\n",
       "      <td>-0.208344</td>\n",
       "      <td>0.878664</td>\n",
       "    </tr>\n",
       "    <tr>\n",
       "      <td>8</td>\n",
       "      <td>-0.423518</td>\n",
       "      <td>-0.657063</td>\n",
       "      <td>-0.431102</td>\n",
       "      <td>-1.818779</td>\n",
       "    </tr>\n",
       "  </tbody>\n",
       "</table>\n",
       "</div>"
      ],
      "text/plain": [
       "          0         1         2         3\n",
       "0  0.869539  0.004665 -0.269643  0.082639\n",
       "1  0.115355  0.574979  0.183674  0.031997\n",
       "2  0.498480 -0.655537 -0.020022  0.207956\n",
       "3  0.302111 -1.044944 -0.862543 -1.390576\n",
       "4 -0.066668 -1.267755 -0.193117  0.919919\n",
       "5 -0.625026 -0.164235  0.614906 -0.971418\n",
       "6  1.231784 -0.244755 -0.304882  1.183197\n",
       "7  0.012447  0.849791 -0.208344  0.878664\n",
       "8 -0.423518 -0.657063 -0.431102 -1.818779"
      ]
     },
     "execution_count": 16,
     "metadata": {},
     "output_type": "execute_result"
    }
   ],
   "source": [
    "df=pd.DataFrame(a)\n",
    "df"
   ]
  },
  {
   "cell_type": "code",
   "execution_count": 17,
   "metadata": {},
   "outputs": [
    {
     "data": {
      "text/html": [
       "<div>\n",
       "<style scoped>\n",
       "    .dataframe tbody tr th:only-of-type {\n",
       "        vertical-align: middle;\n",
       "    }\n",
       "\n",
       "    .dataframe tbody tr th {\n",
       "        vertical-align: top;\n",
       "    }\n",
       "\n",
       "    .dataframe thead tr th {\n",
       "        text-align: left;\n",
       "    }\n",
       "</style>\n",
       "<table border=\"1\" class=\"dataframe\">\n",
       "  <thead>\n",
       "    <tr>\n",
       "      <th></th>\n",
       "      <th>No1</th>\n",
       "      <th>No2</th>\n",
       "      <th>No3</th>\n",
       "      <th>No4</th>\n",
       "    </tr>\n",
       "  </thead>\n",
       "  <tbody>\n",
       "    <tr>\n",
       "      <td>0</td>\n",
       "      <td>0.869539</td>\n",
       "      <td>0.004665</td>\n",
       "      <td>-0.269643</td>\n",
       "      <td>0.082639</td>\n",
       "    </tr>\n",
       "    <tr>\n",
       "      <td>1</td>\n",
       "      <td>0.115355</td>\n",
       "      <td>0.574979</td>\n",
       "      <td>0.183674</td>\n",
       "      <td>0.031997</td>\n",
       "    </tr>\n",
       "    <tr>\n",
       "      <td>2</td>\n",
       "      <td>0.498480</td>\n",
       "      <td>-0.655537</td>\n",
       "      <td>-0.020022</td>\n",
       "      <td>0.207956</td>\n",
       "    </tr>\n",
       "    <tr>\n",
       "      <td>3</td>\n",
       "      <td>0.302111</td>\n",
       "      <td>-1.044944</td>\n",
       "      <td>-0.862543</td>\n",
       "      <td>-1.390576</td>\n",
       "    </tr>\n",
       "    <tr>\n",
       "      <td>4</td>\n",
       "      <td>-0.066668</td>\n",
       "      <td>-1.267755</td>\n",
       "      <td>-0.193117</td>\n",
       "      <td>0.919919</td>\n",
       "    </tr>\n",
       "    <tr>\n",
       "      <td>5</td>\n",
       "      <td>-0.625026</td>\n",
       "      <td>-0.164235</td>\n",
       "      <td>0.614906</td>\n",
       "      <td>-0.971418</td>\n",
       "    </tr>\n",
       "    <tr>\n",
       "      <td>6</td>\n",
       "      <td>1.231784</td>\n",
       "      <td>-0.244755</td>\n",
       "      <td>-0.304882</td>\n",
       "      <td>1.183197</td>\n",
       "    </tr>\n",
       "    <tr>\n",
       "      <td>7</td>\n",
       "      <td>0.012447</td>\n",
       "      <td>0.849791</td>\n",
       "      <td>-0.208344</td>\n",
       "      <td>0.878664</td>\n",
       "    </tr>\n",
       "    <tr>\n",
       "      <td>8</td>\n",
       "      <td>-0.423518</td>\n",
       "      <td>-0.657063</td>\n",
       "      <td>-0.431102</td>\n",
       "      <td>-1.818779</td>\n",
       "    </tr>\n",
       "  </tbody>\n",
       "</table>\n",
       "</div>"
      ],
      "text/plain": [
       "        No1       No2       No3       No4\n",
       "0  0.869539  0.004665 -0.269643  0.082639\n",
       "1  0.115355  0.574979  0.183674  0.031997\n",
       "2  0.498480 -0.655537 -0.020022  0.207956\n",
       "3  0.302111 -1.044944 -0.862543 -1.390576\n",
       "4 -0.066668 -1.267755 -0.193117  0.919919\n",
       "5 -0.625026 -0.164235  0.614906 -0.971418\n",
       "6  1.231784 -0.244755 -0.304882  1.183197\n",
       "7  0.012447  0.849791 -0.208344  0.878664\n",
       "8 -0.423518 -0.657063 -0.431102 -1.818779"
      ]
     },
     "execution_count": 17,
     "metadata": {},
     "output_type": "execute_result"
    }
   ],
   "source": [
    "df.columns=[['No1','No2','No3','No4']]\n",
    "df"
   ]
  },
  {
   "cell_type": "code",
   "execution_count": 18,
   "metadata": {},
   "outputs": [
    {
     "data": {
      "text/plain": [
       "-1.0449435056136922"
      ]
     },
     "execution_count": 18,
     "metadata": {},
     "output_type": "execute_result"
    }
   ],
   "source": [
    "df.iloc[3,1] #iloc的行，列都从0开始"
   ]
  },
  {
   "cell_type": "code",
   "execution_count": 19,
   "metadata": {},
   "outputs": [
    {
     "data": {
      "text/plain": [
       "DatetimeIndex(['2015-01-31', '2015-02-28', '2015-03-31', '2015-04-30',\n",
       "               '2015-05-31', '2015-06-30', '2015-07-31', '2015-08-31',\n",
       "               '2015-09-30'],\n",
       "              dtype='datetime64[ns]', freq='M')"
      ]
     },
     "execution_count": 19,
     "metadata": {},
     "output_type": "execute_result"
    }
   ],
   "source": [
    "dates=pd.date_range('2015-1-1',periods=9,freq='M')\n",
    "dates"
   ]
  },
  {
   "cell_type": "code",
   "execution_count": 20,
   "metadata": {},
   "outputs": [
    {
     "data": {
      "text/html": [
       "<div>\n",
       "<style scoped>\n",
       "    .dataframe tbody tr th:only-of-type {\n",
       "        vertical-align: middle;\n",
       "    }\n",
       "\n",
       "    .dataframe tbody tr th {\n",
       "        vertical-align: top;\n",
       "    }\n",
       "\n",
       "    .dataframe thead tr th {\n",
       "        text-align: left;\n",
       "    }\n",
       "</style>\n",
       "<table border=\"1\" class=\"dataframe\">\n",
       "  <thead>\n",
       "    <tr>\n",
       "      <th></th>\n",
       "      <th>No1</th>\n",
       "      <th>No2</th>\n",
       "      <th>No3</th>\n",
       "      <th>No4</th>\n",
       "    </tr>\n",
       "  </thead>\n",
       "  <tbody>\n",
       "    <tr>\n",
       "      <td>2015-01-31</td>\n",
       "      <td>0.869539</td>\n",
       "      <td>0.004665</td>\n",
       "      <td>-0.269643</td>\n",
       "      <td>0.082639</td>\n",
       "    </tr>\n",
       "    <tr>\n",
       "      <td>2015-02-28</td>\n",
       "      <td>0.115355</td>\n",
       "      <td>0.574979</td>\n",
       "      <td>0.183674</td>\n",
       "      <td>0.031997</td>\n",
       "    </tr>\n",
       "    <tr>\n",
       "      <td>2015-03-31</td>\n",
       "      <td>0.498480</td>\n",
       "      <td>-0.655537</td>\n",
       "      <td>-0.020022</td>\n",
       "      <td>0.207956</td>\n",
       "    </tr>\n",
       "    <tr>\n",
       "      <td>2015-04-30</td>\n",
       "      <td>0.302111</td>\n",
       "      <td>-1.044944</td>\n",
       "      <td>-0.862543</td>\n",
       "      <td>-1.390576</td>\n",
       "    </tr>\n",
       "    <tr>\n",
       "      <td>2015-05-31</td>\n",
       "      <td>-0.066668</td>\n",
       "      <td>-1.267755</td>\n",
       "      <td>-0.193117</td>\n",
       "      <td>0.919919</td>\n",
       "    </tr>\n",
       "    <tr>\n",
       "      <td>2015-06-30</td>\n",
       "      <td>-0.625026</td>\n",
       "      <td>-0.164235</td>\n",
       "      <td>0.614906</td>\n",
       "      <td>-0.971418</td>\n",
       "    </tr>\n",
       "    <tr>\n",
       "      <td>2015-07-31</td>\n",
       "      <td>1.231784</td>\n",
       "      <td>-0.244755</td>\n",
       "      <td>-0.304882</td>\n",
       "      <td>1.183197</td>\n",
       "    </tr>\n",
       "    <tr>\n",
       "      <td>2015-08-31</td>\n",
       "      <td>0.012447</td>\n",
       "      <td>0.849791</td>\n",
       "      <td>-0.208344</td>\n",
       "      <td>0.878664</td>\n",
       "    </tr>\n",
       "    <tr>\n",
       "      <td>2015-09-30</td>\n",
       "      <td>-0.423518</td>\n",
       "      <td>-0.657063</td>\n",
       "      <td>-0.431102</td>\n",
       "      <td>-1.818779</td>\n",
       "    </tr>\n",
       "  </tbody>\n",
       "</table>\n",
       "</div>"
      ],
      "text/plain": [
       "                 No1       No2       No3       No4\n",
       "2015-01-31  0.869539  0.004665 -0.269643  0.082639\n",
       "2015-02-28  0.115355  0.574979  0.183674  0.031997\n",
       "2015-03-31  0.498480 -0.655537 -0.020022  0.207956\n",
       "2015-04-30  0.302111 -1.044944 -0.862543 -1.390576\n",
       "2015-05-31 -0.066668 -1.267755 -0.193117  0.919919\n",
       "2015-06-30 -0.625026 -0.164235  0.614906 -0.971418\n",
       "2015-07-31  1.231784 -0.244755 -0.304882  1.183197\n",
       "2015-08-31  0.012447  0.849791 -0.208344  0.878664\n",
       "2015-09-30 -0.423518 -0.657063 -0.431102 -1.818779"
      ]
     },
     "execution_count": 20,
     "metadata": {},
     "output_type": "execute_result"
    }
   ],
   "source": [
    "df.index=dates\n",
    "df"
   ]
  },
  {
   "cell_type": "code",
   "execution_count": 21,
   "metadata": {},
   "outputs": [
    {
     "data": {
      "text/plain": [
       "array([[ 0.869539,  0.004665, -0.269643,  0.082639],\n",
       "       [ 0.115355,  0.574979,  0.183674,  0.031997],\n",
       "       [ 0.49848 , -0.655537, -0.020022,  0.207956],\n",
       "       [ 0.302111, -1.044944, -0.862543, -1.390576],\n",
       "       [-0.066668, -1.267755, -0.193117,  0.919919],\n",
       "       [-0.625026, -0.164235,  0.614906, -0.971418],\n",
       "       [ 1.231784, -0.244755, -0.304882,  1.183197],\n",
       "       [ 0.012447,  0.849791, -0.208344,  0.878664],\n",
       "       [-0.423518, -0.657063, -0.431102, -1.818779]])"
      ]
     },
     "execution_count": 21,
     "metadata": {},
     "output_type": "execute_result"
    }
   ],
   "source": [
    "np.array(df).round(6)"
   ]
  },
  {
   "cell_type": "code",
   "execution_count": 22,
   "metadata": {},
   "outputs": [
    {
     "data": {
      "text/plain": [
       "No1    1.914502\n",
       "No2   -2.604855\n",
       "No3   -1.491072\n",
       "No4   -0.876402\n",
       "dtype: float64"
      ]
     },
     "execution_count": 22,
     "metadata": {},
     "output_type": "execute_result"
    }
   ],
   "source": [
    "#基本分析\n",
    "df.sum()"
   ]
  },
  {
   "cell_type": "code",
   "execution_count": 23,
   "metadata": {},
   "outputs": [
    {
     "data": {
      "text/html": [
       "<div>\n",
       "<style scoped>\n",
       "    .dataframe tbody tr th:only-of-type {\n",
       "        vertical-align: middle;\n",
       "    }\n",
       "\n",
       "    .dataframe tbody tr th {\n",
       "        vertical-align: top;\n",
       "    }\n",
       "\n",
       "    .dataframe thead tr th {\n",
       "        text-align: left;\n",
       "    }\n",
       "</style>\n",
       "<table border=\"1\" class=\"dataframe\">\n",
       "  <thead>\n",
       "    <tr>\n",
       "      <th></th>\n",
       "      <th>No1</th>\n",
       "      <th>No2</th>\n",
       "      <th>No3</th>\n",
       "      <th>No4</th>\n",
       "    </tr>\n",
       "  </thead>\n",
       "  <tbody>\n",
       "    <tr>\n",
       "      <td>2015-01-31</td>\n",
       "      <td>0.869539</td>\n",
       "      <td>0.004665</td>\n",
       "      <td>-0.269643</td>\n",
       "      <td>0.082639</td>\n",
       "    </tr>\n",
       "    <tr>\n",
       "      <td>2015-02-28</td>\n",
       "      <td>0.984894</td>\n",
       "      <td>0.579643</td>\n",
       "      <td>-0.085969</td>\n",
       "      <td>0.114636</td>\n",
       "    </tr>\n",
       "    <tr>\n",
       "      <td>2015-03-31</td>\n",
       "      <td>1.483374</td>\n",
       "      <td>-0.075894</td>\n",
       "      <td>-0.105991</td>\n",
       "      <td>0.322591</td>\n",
       "    </tr>\n",
       "    <tr>\n",
       "      <td>2015-04-30</td>\n",
       "      <td>1.785485</td>\n",
       "      <td>-1.120838</td>\n",
       "      <td>-0.968534</td>\n",
       "      <td>-1.067985</td>\n",
       "    </tr>\n",
       "    <tr>\n",
       "      <td>2015-05-31</td>\n",
       "      <td>1.718817</td>\n",
       "      <td>-2.388593</td>\n",
       "      <td>-1.161650</td>\n",
       "      <td>-0.148066</td>\n",
       "    </tr>\n",
       "    <tr>\n",
       "      <td>2015-06-30</td>\n",
       "      <td>1.093790</td>\n",
       "      <td>-2.552827</td>\n",
       "      <td>-0.546744</td>\n",
       "      <td>-1.119484</td>\n",
       "    </tr>\n",
       "    <tr>\n",
       "      <td>2015-07-31</td>\n",
       "      <td>2.325574</td>\n",
       "      <td>-2.797583</td>\n",
       "      <td>-0.851626</td>\n",
       "      <td>0.063713</td>\n",
       "    </tr>\n",
       "    <tr>\n",
       "      <td>2015-08-31</td>\n",
       "      <td>2.338020</td>\n",
       "      <td>-1.947792</td>\n",
       "      <td>-1.059970</td>\n",
       "      <td>0.942377</td>\n",
       "    </tr>\n",
       "    <tr>\n",
       "      <td>2015-09-30</td>\n",
       "      <td>1.914502</td>\n",
       "      <td>-2.604855</td>\n",
       "      <td>-1.491072</td>\n",
       "      <td>-0.876402</td>\n",
       "    </tr>\n",
       "  </tbody>\n",
       "</table>\n",
       "</div>"
      ],
      "text/plain": [
       "                 No1       No2       No3       No4\n",
       "2015-01-31  0.869539  0.004665 -0.269643  0.082639\n",
       "2015-02-28  0.984894  0.579643 -0.085969  0.114636\n",
       "2015-03-31  1.483374 -0.075894 -0.105991  0.322591\n",
       "2015-04-30  1.785485 -1.120838 -0.968534 -1.067985\n",
       "2015-05-31  1.718817 -2.388593 -1.161650 -0.148066\n",
       "2015-06-30  1.093790 -2.552827 -0.546744 -1.119484\n",
       "2015-07-31  2.325574 -2.797583 -0.851626  0.063713\n",
       "2015-08-31  2.338020 -1.947792 -1.059970  0.942377\n",
       "2015-09-30  1.914502 -2.604855 -1.491072 -0.876402"
      ]
     },
     "execution_count": 23,
     "metadata": {},
     "output_type": "execute_result"
    }
   ],
   "source": [
    "df.cumsum()"
   ]
  },
  {
   "cell_type": "code",
   "execution_count": 24,
   "metadata": {},
   "outputs": [
    {
     "data": {
      "text/html": [
       "<div>\n",
       "<style scoped>\n",
       "    .dataframe tbody tr th:only-of-type {\n",
       "        vertical-align: middle;\n",
       "    }\n",
       "\n",
       "    .dataframe tbody tr th {\n",
       "        vertical-align: top;\n",
       "    }\n",
       "\n",
       "    .dataframe thead tr th {\n",
       "        text-align: left;\n",
       "    }\n",
       "</style>\n",
       "<table border=\"1\" class=\"dataframe\">\n",
       "  <thead>\n",
       "    <tr>\n",
       "      <th></th>\n",
       "      <th>No1</th>\n",
       "      <th>No2</th>\n",
       "      <th>No3</th>\n",
       "      <th>No4</th>\n",
       "    </tr>\n",
       "  </thead>\n",
       "  <tbody>\n",
       "    <tr>\n",
       "      <td>count</td>\n",
       "      <td>9.000000</td>\n",
       "      <td>9.000000</td>\n",
       "      <td>9.000000</td>\n",
       "      <td>9.000000</td>\n",
       "    </tr>\n",
       "    <tr>\n",
       "      <td>mean</td>\n",
       "      <td>0.212722</td>\n",
       "      <td>-0.289428</td>\n",
       "      <td>-0.165675</td>\n",
       "      <td>-0.097378</td>\n",
       "    </tr>\n",
       "    <tr>\n",
       "      <td>std</td>\n",
       "      <td>0.590954</td>\n",
       "      <td>0.702344</td>\n",
       "      <td>0.409482</td>\n",
       "      <td>1.070591</td>\n",
       "    </tr>\n",
       "    <tr>\n",
       "      <td>min</td>\n",
       "      <td>-0.625026</td>\n",
       "      <td>-1.267755</td>\n",
       "      <td>-0.862543</td>\n",
       "      <td>-1.818779</td>\n",
       "    </tr>\n",
       "    <tr>\n",
       "      <td>25%</td>\n",
       "      <td>-0.066668</td>\n",
       "      <td>-0.657063</td>\n",
       "      <td>-0.304882</td>\n",
       "      <td>-0.971418</td>\n",
       "    </tr>\n",
       "    <tr>\n",
       "      <td>50%</td>\n",
       "      <td>0.115355</td>\n",
       "      <td>-0.244755</td>\n",
       "      <td>-0.208344</td>\n",
       "      <td>0.082639</td>\n",
       "    </tr>\n",
       "    <tr>\n",
       "      <td>75%</td>\n",
       "      <td>0.498480</td>\n",
       "      <td>0.004665</td>\n",
       "      <td>-0.020022</td>\n",
       "      <td>0.878664</td>\n",
       "    </tr>\n",
       "    <tr>\n",
       "      <td>max</td>\n",
       "      <td>1.231784</td>\n",
       "      <td>0.849791</td>\n",
       "      <td>0.614906</td>\n",
       "      <td>1.183197</td>\n",
       "    </tr>\n",
       "  </tbody>\n",
       "</table>\n",
       "</div>"
      ],
      "text/plain": [
       "            No1       No2       No3       No4\n",
       "count  9.000000  9.000000  9.000000  9.000000\n",
       "mean   0.212722 -0.289428 -0.165675 -0.097378\n",
       "std    0.590954  0.702344  0.409482  1.070591\n",
       "min   -0.625026 -1.267755 -0.862543 -1.818779\n",
       "25%   -0.066668 -0.657063 -0.304882 -0.971418\n",
       "50%    0.115355 -0.244755 -0.208344  0.082639\n",
       "75%    0.498480  0.004665 -0.020022  0.878664\n",
       "max    1.231784  0.849791  0.614906  1.183197"
      ]
     },
     "execution_count": 24,
     "metadata": {},
     "output_type": "execute_result"
    }
   ],
   "source": [
    "df.describe()"
   ]
  },
  {
   "cell_type": "code",
   "execution_count": 25,
   "metadata": {},
   "outputs": [
    {
     "name": "stderr",
     "output_type": "stream",
     "text": [
      "D:\\Python\\anaconda\\lib\\site-packages\\ipykernel_launcher.py:1: RuntimeWarning: invalid value encountered in sqrt\n",
      "  \"\"\"Entry point for launching an IPython kernel.\n"
     ]
    },
    {
     "data": {
      "text/html": [
       "<div>\n",
       "<style scoped>\n",
       "    .dataframe tbody tr th:only-of-type {\n",
       "        vertical-align: middle;\n",
       "    }\n",
       "\n",
       "    .dataframe tbody tr th {\n",
       "        vertical-align: top;\n",
       "    }\n",
       "\n",
       "    .dataframe thead tr th {\n",
       "        text-align: left;\n",
       "    }\n",
       "</style>\n",
       "<table border=\"1\" class=\"dataframe\">\n",
       "  <thead>\n",
       "    <tr>\n",
       "      <th></th>\n",
       "      <th>No1</th>\n",
       "      <th>No2</th>\n",
       "      <th>No3</th>\n",
       "      <th>No4</th>\n",
       "    </tr>\n",
       "  </thead>\n",
       "  <tbody>\n",
       "    <tr>\n",
       "      <td>2015-01-31</td>\n",
       "      <td>0.932491</td>\n",
       "      <td>0.068297</td>\n",
       "      <td>NaN</td>\n",
       "      <td>0.287469</td>\n",
       "    </tr>\n",
       "    <tr>\n",
       "      <td>2015-02-28</td>\n",
       "      <td>0.339640</td>\n",
       "      <td>0.758274</td>\n",
       "      <td>0.428572</td>\n",
       "      <td>0.178877</td>\n",
       "    </tr>\n",
       "    <tr>\n",
       "      <td>2015-03-31</td>\n",
       "      <td>0.706031</td>\n",
       "      <td>NaN</td>\n",
       "      <td>NaN</td>\n",
       "      <td>0.456022</td>\n",
       "    </tr>\n",
       "    <tr>\n",
       "      <td>2015-04-30</td>\n",
       "      <td>0.549646</td>\n",
       "      <td>NaN</td>\n",
       "      <td>NaN</td>\n",
       "      <td>NaN</td>\n",
       "    </tr>\n",
       "    <tr>\n",
       "      <td>2015-05-31</td>\n",
       "      <td>NaN</td>\n",
       "      <td>NaN</td>\n",
       "      <td>NaN</td>\n",
       "      <td>0.959124</td>\n",
       "    </tr>\n",
       "    <tr>\n",
       "      <td>2015-06-30</td>\n",
       "      <td>NaN</td>\n",
       "      <td>NaN</td>\n",
       "      <td>0.784160</td>\n",
       "      <td>NaN</td>\n",
       "    </tr>\n",
       "    <tr>\n",
       "      <td>2015-07-31</td>\n",
       "      <td>1.109857</td>\n",
       "      <td>NaN</td>\n",
       "      <td>NaN</td>\n",
       "      <td>1.087749</td>\n",
       "    </tr>\n",
       "    <tr>\n",
       "      <td>2015-08-31</td>\n",
       "      <td>0.111564</td>\n",
       "      <td>0.921841</td>\n",
       "      <td>NaN</td>\n",
       "      <td>0.937371</td>\n",
       "    </tr>\n",
       "    <tr>\n",
       "      <td>2015-09-30</td>\n",
       "      <td>NaN</td>\n",
       "      <td>NaN</td>\n",
       "      <td>NaN</td>\n",
       "      <td>NaN</td>\n",
       "    </tr>\n",
       "  </tbody>\n",
       "</table>\n",
       "</div>"
      ],
      "text/plain": [
       "                 No1       No2       No3       No4\n",
       "2015-01-31  0.932491  0.068297       NaN  0.287469\n",
       "2015-02-28  0.339640  0.758274  0.428572  0.178877\n",
       "2015-03-31  0.706031       NaN       NaN  0.456022\n",
       "2015-04-30  0.549646       NaN       NaN       NaN\n",
       "2015-05-31       NaN       NaN       NaN  0.959124\n",
       "2015-06-30       NaN       NaN  0.784160       NaN\n",
       "2015-07-31  1.109857       NaN       NaN  1.087749\n",
       "2015-08-31  0.111564  0.921841       NaN  0.937371\n",
       "2015-09-30       NaN       NaN       NaN       NaN"
      ]
     },
     "execution_count": 25,
     "metadata": {},
     "output_type": "execute_result"
    }
   ],
   "source": [
    "np.sqrt(df)"
   ]
  },
  {
   "cell_type": "code",
   "execution_count": 26,
   "metadata": {},
   "outputs": [
    {
     "name": "stderr",
     "output_type": "stream",
     "text": [
      "D:\\Python\\anaconda\\lib\\site-packages\\ipykernel_launcher.py:1: RuntimeWarning: invalid value encountered in sqrt\n",
      "  \"\"\"Entry point for launching an IPython kernel.\n"
     ]
    },
    {
     "data": {
      "text/plain": [
       "No1    3.749229\n",
       "No2    1.748412\n",
       "No3    1.212732\n",
       "No4    3.906611\n",
       "dtype: float64"
      ]
     },
     "execution_count": 26,
     "metadata": {},
     "output_type": "execute_result"
    }
   ],
   "source": [
    "np.sqrt(df).sum()"
   ]
  },
  {
   "cell_type": "code",
   "execution_count": 27,
   "metadata": {},
   "outputs": [
    {
     "data": {
      "text/plain": [
       "<matplotlib.axes._subplots.AxesSubplot at 0x1d03c1a6e88>"
      ]
     },
     "execution_count": 27,
     "metadata": {},
     "output_type": "execute_result"
    },
    {
     "data": {
      "image/png": "[encoded data removed]",
      "text/plain": [
       "<Figure size 432x288 with 1 Axes>"
      ]
     },
     "metadata": {
      "needs_background": "light"
     },
     "output_type": "display_data"
    }
   ],
   "source": [
    "%matplotlib inline\n",
    "df.cumsum().plot(lw=2.0)"
   ]
  },
  {
   "cell_type": "code",
   "execution_count": 28,
   "metadata": {},
   "outputs": [
    {
     "data": {
      "text/plain": [
       "pandas.core.frame.DataFrame"
      ]
     },
     "execution_count": 28,
     "metadata": {},
     "output_type": "execute_result"
    }
   ],
   "source": [
    "#Series\n",
    "type(df)"
   ]
  },
  {
   "cell_type": "code",
   "execution_count": 29,
   "metadata": {},
   "outputs": [
    {
     "data": {
      "text/plain": [
       "Text(0, 0.5, 'value')"
      ]
     },
     "execution_count": 29,
     "metadata": {},
     "output_type": "execute_result"
    },
    {
     "data": {
      "image/png": "[encoded data removed]",
      "text/plain": [
       "<Figure size 432x288 with 1 Axes>"
      ]
     },
     "metadata": {
      "needs_background": "light"
     },
     "output_type": "display_data"
    }
   ],
   "source": [
    "import matplotlib.pyplot as plt\n",
    "df[['No1']].cumsum().plot(style='r',lw=2.)\n",
    "plt.xlabel('date')\n",
    "plt.ylabel('value')"
   ]
  },
  {
   "cell_type": "code",
   "execution_count": 30,
   "metadata": {},
   "outputs": [
    {
     "data": {
      "text/html": [
       "<div>\n",
       "<style scoped>\n",
       "    .dataframe tbody tr th:only-of-type {\n",
       "        vertical-align: middle;\n",
       "    }\n",
       "\n",
       "    .dataframe tbody tr th {\n",
       "        vertical-align: top;\n",
       "    }\n",
       "\n",
       "    .dataframe thead tr th {\n",
       "        text-align: left;\n",
       "    }\n",
       "</style>\n",
       "<table border=\"1\" class=\"dataframe\">\n",
       "  <thead>\n",
       "    <tr>\n",
       "      <th></th>\n",
       "      <th>No1</th>\n",
       "      <th>No2</th>\n",
       "      <th>No3</th>\n",
       "      <th>No4</th>\n",
       "      <th>Quarter</th>\n",
       "    </tr>\n",
       "  </thead>\n",
       "  <tbody>\n",
       "    <tr>\n",
       "      <td>2015-01-31</td>\n",
       "      <td>0.869539</td>\n",
       "      <td>0.004665</td>\n",
       "      <td>-0.269643</td>\n",
       "      <td>0.082639</td>\n",
       "      <td>1</td>\n",
       "    </tr>\n",
       "    <tr>\n",
       "      <td>2015-02-28</td>\n",
       "      <td>0.115355</td>\n",
       "      <td>0.574979</td>\n",
       "      <td>0.183674</td>\n",
       "      <td>0.031997</td>\n",
       "      <td>1</td>\n",
       "    </tr>\n",
       "    <tr>\n",
       "      <td>2015-03-31</td>\n",
       "      <td>0.498480</td>\n",
       "      <td>-0.655537</td>\n",
       "      <td>-0.020022</td>\n",
       "      <td>0.207956</td>\n",
       "      <td>1</td>\n",
       "    </tr>\n",
       "    <tr>\n",
       "      <td>2015-04-30</td>\n",
       "      <td>0.302111</td>\n",
       "      <td>-1.044944</td>\n",
       "      <td>-0.862543</td>\n",
       "      <td>-1.390576</td>\n",
       "      <td>2</td>\n",
       "    </tr>\n",
       "    <tr>\n",
       "      <td>2015-05-31</td>\n",
       "      <td>-0.066668</td>\n",
       "      <td>-1.267755</td>\n",
       "      <td>-0.193117</td>\n",
       "      <td>0.919919</td>\n",
       "      <td>2</td>\n",
       "    </tr>\n",
       "    <tr>\n",
       "      <td>2015-06-30</td>\n",
       "      <td>-0.625026</td>\n",
       "      <td>-0.164235</td>\n",
       "      <td>0.614906</td>\n",
       "      <td>-0.971418</td>\n",
       "      <td>2</td>\n",
       "    </tr>\n",
       "    <tr>\n",
       "      <td>2015-07-31</td>\n",
       "      <td>1.231784</td>\n",
       "      <td>-0.244755</td>\n",
       "      <td>-0.304882</td>\n",
       "      <td>1.183197</td>\n",
       "      <td>3</td>\n",
       "    </tr>\n",
       "    <tr>\n",
       "      <td>2015-08-31</td>\n",
       "      <td>0.012447</td>\n",
       "      <td>0.849791</td>\n",
       "      <td>-0.208344</td>\n",
       "      <td>0.878664</td>\n",
       "      <td>3</td>\n",
       "    </tr>\n",
       "    <tr>\n",
       "      <td>2015-09-30</td>\n",
       "      <td>-0.423518</td>\n",
       "      <td>-0.657063</td>\n",
       "      <td>-0.431102</td>\n",
       "      <td>-1.818779</td>\n",
       "      <td>3</td>\n",
       "    </tr>\n",
       "  </tbody>\n",
       "</table>\n",
       "</div>"
      ],
      "text/plain": [
       "                 No1       No2       No3       No4 Quarter\n",
       "2015-01-31  0.869539  0.004665 -0.269643  0.082639       1\n",
       "2015-02-28  0.115355  0.574979  0.183674  0.031997       1\n",
       "2015-03-31  0.498480 -0.655537 -0.020022  0.207956       1\n",
       "2015-04-30  0.302111 -1.044944 -0.862543 -1.390576       2\n",
       "2015-05-31 -0.066668 -1.267755 -0.193117  0.919919       2\n",
       "2015-06-30 -0.625026 -0.164235  0.614906 -0.971418       2\n",
       "2015-07-31  1.231784 -0.244755 -0.304882  1.183197       3\n",
       "2015-08-31  0.012447  0.849791 -0.208344  0.878664       3\n",
       "2015-09-30 -0.423518 -0.657063 -0.431102 -1.818779       3"
      ]
     },
     "execution_count": 30,
     "metadata": {},
     "output_type": "execute_result"
    }
   ],
   "source": [
    "#groupby\n",
    "df['Quarter']=[1,1,1,2,2,2,3,3,3]\n",
    "df "
   ]
  },
  {
   "cell_type": "code",
   "execution_count": 31,
   "metadata": {},
   "outputs": [
    {
     "ename": "TypeError",
     "evalue": "only integer scalar arrays can be converted to a scalar index",
     "output_type": "error",
     "traceback": [
      "\u001b[1;31m---------------------------------------------------------------------------\u001b[0m",
      "\u001b[1;31mTypeError\u001b[0m                                 Traceback (most recent call last)",
      "\u001b[1;32m<ipython-input-31-df82dfea1dbc>\u001b[0m in \u001b[0;36m<module>\u001b[1;34m\u001b[0m\n\u001b[1;32m----> 1\u001b[1;33m \u001b[0mdf\u001b[0m\u001b[1;33m.\u001b[0m\u001b[0mgroupby\u001b[0m\u001b[1;33m(\u001b[0m\u001b[1;34m'Quarter'\u001b[0m\u001b[1;33m)\u001b[0m\u001b[1;33m\u001b[0m\u001b[1;33m\u001b[0m\u001b[0m\n\u001b[0m",
      "\u001b[1;32mD:\\Python\\anaconda\\lib\\site-packages\\pandas\\core\\generic.py\u001b[0m in \u001b[0;36mgroupby\u001b[1;34m(self, by, axis, level, as_index, sort, group_keys, squeeze, observed, **kwargs)\u001b[0m\n\u001b[0;32m   7892\u001b[0m             \u001b[0msqueeze\u001b[0m\u001b[1;33m=\u001b[0m\u001b[0msqueeze\u001b[0m\u001b[1;33m,\u001b[0m\u001b[1;33m\u001b[0m\u001b[1;33m\u001b[0m\u001b[0m\n\u001b[0;32m   7893\u001b[0m             \u001b[0mobserved\u001b[0m\u001b[1;33m=\u001b[0m\u001b[0mobserved\u001b[0m\u001b[1;33m,\u001b[0m\u001b[1;33m\u001b[0m\u001b[1;33m\u001b[0m\u001b[0m\n\u001b[1;32m-> 7894\u001b[1;33m             \u001b[1;33m**\u001b[0m\u001b[0mkwargs\u001b[0m\u001b[1;33m\u001b[0m\u001b[1;33m\u001b[0m\u001b[0m\n\u001b[0m\u001b[0;32m   7895\u001b[0m         )\n\u001b[0;32m   7896\u001b[0m \u001b[1;33m\u001b[0m\u001b[0m\n",
      "\u001b[1;32mD:\\Python\\anaconda\\lib\\site-packages\\pandas\\core\\groupby\\groupby.py\u001b[0m in \u001b[0;36mgroupby\u001b[1;34m(obj, by, **kwds)\u001b[0m\n\u001b[0;32m   2520\u001b[0m         \u001b[1;32mraise\u001b[0m \u001b[0mTypeError\u001b[0m\u001b[1;33m(\u001b[0m\u001b[1;34m\"invalid type: {}\"\u001b[0m\u001b[1;33m.\u001b[0m\u001b[0mformat\u001b[0m\u001b[1;33m(\u001b[0m\u001b[0mobj\u001b[0m\u001b[1;33m)\u001b[0m\u001b[1;33m)\u001b[0m\u001b[1;33m\u001b[0m\u001b[1;33m\u001b[0m\u001b[0m\n\u001b[0;32m   2521\u001b[0m \u001b[1;33m\u001b[0m\u001b[0m\n\u001b[1;32m-> 2522\u001b[1;33m     \u001b[1;32mreturn\u001b[0m \u001b[0mklass\u001b[0m\u001b[1;33m(\u001b[0m\u001b[0mobj\u001b[0m\u001b[1;33m,\u001b[0m \u001b[0mby\u001b[0m\u001b[1;33m,\u001b[0m \u001b[1;33m**\u001b[0m\u001b[0mkwds\u001b[0m\u001b[1;33m)\u001b[0m\u001b[1;33m\u001b[0m\u001b[1;33m\u001b[0m\u001b[0m\n\u001b[0m",
      "\u001b[1;32mD:\\Python\\anaconda\\lib\\site-packages\\pandas\\core\\groupby\\groupby.py\u001b[0m in \u001b[0;36m__init__\u001b[1;34m(self, obj, keys, axis, level, grouper, exclusions, selection, as_index, sort, group_keys, squeeze, observed, **kwargs)\u001b[0m\n\u001b[0;32m    389\u001b[0m                 \u001b[0msort\u001b[0m\u001b[1;33m=\u001b[0m\u001b[0msort\u001b[0m\u001b[1;33m,\u001b[0m\u001b[1;33m\u001b[0m\u001b[1;33m\u001b[0m\u001b[0m\n\u001b[0;32m    390\u001b[0m                 \u001b[0mobserved\u001b[0m\u001b[1;33m=\u001b[0m\u001b[0mobserved\u001b[0m\u001b[1;33m,\u001b[0m\u001b[1;33m\u001b[0m\u001b[1;33m\u001b[0m\u001b[0m\n\u001b[1;32m--> 391\u001b[1;33m                 \u001b[0mmutated\u001b[0m\u001b[1;33m=\u001b[0m\u001b[0mself\u001b[0m\u001b[1;33m.\u001b[0m\u001b[0mmutated\u001b[0m\u001b[1;33m,\u001b[0m\u001b[1;33m\u001b[0m\u001b[1;33m\u001b[0m\u001b[0m\n\u001b[0m\u001b[0;32m    392\u001b[0m             )\n\u001b[0;32m    393\u001b[0m \u001b[1;33m\u001b[0m\u001b[0m\n",
      "\u001b[1;32mD:\\Python\\anaconda\\lib\\site-packages\\pandas\\core\\groupby\\grouper.py\u001b[0m in \u001b[0;36m_get_grouper\u001b[1;34m(obj, key, axis, level, sort, observed, mutated, validate)\u001b[0m\n\u001b[0;32m    614\u001b[0m                 \u001b[1;32mif\u001b[0m \u001b[0mvalidate\u001b[0m\u001b[1;33m:\u001b[0m\u001b[1;33m\u001b[0m\u001b[1;33m\u001b[0m\u001b[0m\n\u001b[0;32m    615\u001b[0m                     \u001b[0mobj\u001b[0m\u001b[1;33m.\u001b[0m\u001b[0m_check_label_or_level_ambiguity\u001b[0m\u001b[1;33m(\u001b[0m\u001b[0mgpr\u001b[0m\u001b[1;33m)\u001b[0m\u001b[1;33m\u001b[0m\u001b[1;33m\u001b[0m\u001b[0m\n\u001b[1;32m--> 616\u001b[1;33m                 \u001b[0min_axis\u001b[0m\u001b[1;33m,\u001b[0m \u001b[0mname\u001b[0m\u001b[1;33m,\u001b[0m \u001b[0mgpr\u001b[0m \u001b[1;33m=\u001b[0m \u001b[1;32mTrue\u001b[0m\u001b[1;33m,\u001b[0m \u001b[0mgpr\u001b[0m\u001b[1;33m,\u001b[0m \u001b[0mobj\u001b[0m\u001b[1;33m[\u001b[0m\u001b[0mgpr\u001b[0m\u001b[1;33m]\u001b[0m\u001b[1;33m\u001b[0m\u001b[1;33m\u001b[0m\u001b[0m\n\u001b[0m\u001b[0;32m    617\u001b[0m                 \u001b[0mexclusions\u001b[0m\u001b[1;33m.\u001b[0m\u001b[0mappend\u001b[0m\u001b[1;33m(\u001b[0m\u001b[0mname\u001b[0m\u001b[1;33m)\u001b[0m\u001b[1;33m\u001b[0m\u001b[1;33m\u001b[0m\u001b[0m\n\u001b[0;32m    618\u001b[0m             \u001b[1;32melif\u001b[0m \u001b[0mobj\u001b[0m\u001b[1;33m.\u001b[0m\u001b[0m_is_level_reference\u001b[0m\u001b[1;33m(\u001b[0m\u001b[0mgpr\u001b[0m\u001b[1;33m)\u001b[0m\u001b[1;33m:\u001b[0m\u001b[1;33m\u001b[0m\u001b[1;33m\u001b[0m\u001b[0m\n",
      "\u001b[1;32mD:\\Python\\anaconda\\lib\\site-packages\\pandas\\core\\frame.py\u001b[0m in \u001b[0;36m__getitem__\u001b[1;34m(self, key)\u001b[0m\n\u001b[0;32m   2956\u001b[0m                 \u001b[1;32mif\u001b[0m \u001b[0mself\u001b[0m\u001b[1;33m.\u001b[0m\u001b[0mcolumns\u001b[0m\u001b[1;33m.\u001b[0m\u001b[0mnlevels\u001b[0m \u001b[1;33m>\u001b[0m \u001b[1;36m1\u001b[0m\u001b[1;33m:\u001b[0m\u001b[1;33m\u001b[0m\u001b[1;33m\u001b[0m\u001b[0m\n\u001b[0;32m   2957\u001b[0m                     \u001b[1;32mreturn\u001b[0m \u001b[0mself\u001b[0m\u001b[1;33m.\u001b[0m\u001b[0m_getitem_multilevel\u001b[0m\u001b[1;33m(\u001b[0m\u001b[0mkey\u001b[0m\u001b[1;33m)\u001b[0m\u001b[1;33m\u001b[0m\u001b[1;33m\u001b[0m\u001b[0m\n\u001b[1;32m-> 2958\u001b[1;33m                 \u001b[1;32mreturn\u001b[0m \u001b[0mself\u001b[0m\u001b[1;33m.\u001b[0m\u001b[0m_get_item_cache\u001b[0m\u001b[1;33m(\u001b[0m\u001b[0mkey\u001b[0m\u001b[1;33m)\u001b[0m\u001b[1;33m\u001b[0m\u001b[1;33m\u001b[0m\u001b[0m\n\u001b[0m\u001b[0;32m   2959\u001b[0m \u001b[1;33m\u001b[0m\u001b[0m\n\u001b[0;32m   2960\u001b[0m         \u001b[1;31m# Do we have a slicer (on rows)?\u001b[0m\u001b[1;33m\u001b[0m\u001b[1;33m\u001b[0m\u001b[1;33m\u001b[0m\u001b[0m\n",
      "\u001b[1;32mD:\\Python\\anaconda\\lib\\site-packages\\pandas\\core\\generic.py\u001b[0m in \u001b[0;36m_get_item_cache\u001b[1;34m(self, item)\u001b[0m\n\u001b[0;32m   3268\u001b[0m         \u001b[0mres\u001b[0m \u001b[1;33m=\u001b[0m \u001b[0mcache\u001b[0m\u001b[1;33m.\u001b[0m\u001b[0mget\u001b[0m\u001b[1;33m(\u001b[0m\u001b[0mitem\u001b[0m\u001b[1;33m)\u001b[0m\u001b[1;33m\u001b[0m\u001b[1;33m\u001b[0m\u001b[0m\n\u001b[0;32m   3269\u001b[0m         \u001b[1;32mif\u001b[0m \u001b[0mres\u001b[0m \u001b[1;32mis\u001b[0m \u001b[1;32mNone\u001b[0m\u001b[1;33m:\u001b[0m\u001b[1;33m\u001b[0m\u001b[1;33m\u001b[0m\u001b[0m\n\u001b[1;32m-> 3270\u001b[1;33m             \u001b[0mvalues\u001b[0m \u001b[1;33m=\u001b[0m \u001b[0mself\u001b[0m\u001b[1;33m.\u001b[0m\u001b[0m_data\u001b[0m\u001b[1;33m.\u001b[0m\u001b[0mget\u001b[0m\u001b[1;33m(\u001b[0m\u001b[0mitem\u001b[0m\u001b[1;33m)\u001b[0m\u001b[1;33m\u001b[0m\u001b[1;33m\u001b[0m\u001b[0m\n\u001b[0m\u001b[0;32m   3271\u001b[0m             \u001b[0mres\u001b[0m \u001b[1;33m=\u001b[0m \u001b[0mself\u001b[0m\u001b[1;33m.\u001b[0m\u001b[0m_box_item_values\u001b[0m\u001b[1;33m(\u001b[0m\u001b[0mitem\u001b[0m\u001b[1;33m,\u001b[0m \u001b[0mvalues\u001b[0m\u001b[1;33m)\u001b[0m\u001b[1;33m\u001b[0m\u001b[1;33m\u001b[0m\u001b[0m\n\u001b[0;32m   3272\u001b[0m             \u001b[0mcache\u001b[0m\u001b[1;33m[\u001b[0m\u001b[0mitem\u001b[0m\u001b[1;33m]\u001b[0m \u001b[1;33m=\u001b[0m \u001b[0mres\u001b[0m\u001b[1;33m\u001b[0m\u001b[1;33m\u001b[0m\u001b[0m\n",
      "\u001b[1;32mD:\\Python\\anaconda\\lib\\site-packages\\pandas\\core\\internals\\managers.py\u001b[0m in \u001b[0;36mget\u001b[1;34m(self, item)\u001b[0m\n\u001b[0;32m    958\u001b[0m                         \u001b[1;32mraise\u001b[0m \u001b[0mValueError\u001b[0m\u001b[1;33m(\u001b[0m\u001b[1;34m\"cannot label index with a null key\"\u001b[0m\u001b[1;33m)\u001b[0m\u001b[1;33m\u001b[0m\u001b[1;33m\u001b[0m\u001b[0m\n\u001b[0;32m    959\u001b[0m \u001b[1;33m\u001b[0m\u001b[0m\n\u001b[1;32m--> 960\u001b[1;33m             \u001b[1;32mreturn\u001b[0m \u001b[0mself\u001b[0m\u001b[1;33m.\u001b[0m\u001b[0miget\u001b[0m\u001b[1;33m(\u001b[0m\u001b[0mloc\u001b[0m\u001b[1;33m)\u001b[0m\u001b[1;33m\u001b[0m\u001b[1;33m\u001b[0m\u001b[0m\n\u001b[0m\u001b[0;32m    961\u001b[0m         \u001b[1;32melse\u001b[0m\u001b[1;33m:\u001b[0m\u001b[1;33m\u001b[0m\u001b[1;33m\u001b[0m\u001b[0m\n\u001b[0;32m    962\u001b[0m \u001b[1;33m\u001b[0m\u001b[0m\n",
      "\u001b[1;32mD:\\Python\\anaconda\\lib\\site-packages\\pandas\\core\\internals\\managers.py\u001b[0m in \u001b[0;36miget\u001b[1;34m(self, i)\u001b[0m\n\u001b[0;32m    975\u001b[0m         \u001b[0mOtherwise\u001b[0m \u001b[1;32mreturn\u001b[0m \u001b[1;32mas\u001b[0m \u001b[0ma\u001b[0m \u001b[0mndarray\u001b[0m\u001b[1;33m\u001b[0m\u001b[1;33m\u001b[0m\u001b[0m\n\u001b[0;32m    976\u001b[0m         \"\"\"\n\u001b[1;32m--> 977\u001b[1;33m         \u001b[0mblock\u001b[0m \u001b[1;33m=\u001b[0m \u001b[0mself\u001b[0m\u001b[1;33m.\u001b[0m\u001b[0mblocks\u001b[0m\u001b[1;33m[\u001b[0m\u001b[0mself\u001b[0m\u001b[1;33m.\u001b[0m\u001b[0m_blknos\u001b[0m\u001b[1;33m[\u001b[0m\u001b[0mi\u001b[0m\u001b[1;33m]\u001b[0m\u001b[1;33m]\u001b[0m\u001b[1;33m\u001b[0m\u001b[1;33m\u001b[0m\u001b[0m\n\u001b[0m\u001b[0;32m    978\u001b[0m         \u001b[0mvalues\u001b[0m \u001b[1;33m=\u001b[0m \u001b[0mblock\u001b[0m\u001b[1;33m.\u001b[0m\u001b[0miget\u001b[0m\u001b[1;33m(\u001b[0m\u001b[0mself\u001b[0m\u001b[1;33m.\u001b[0m\u001b[0m_blklocs\u001b[0m\u001b[1;33m[\u001b[0m\u001b[0mi\u001b[0m\u001b[1;33m]\u001b[0m\u001b[1;33m)\u001b[0m\u001b[1;33m\u001b[0m\u001b[1;33m\u001b[0m\u001b[0m\n\u001b[0;32m    979\u001b[0m         \u001b[1;32mif\u001b[0m \u001b[0mvalues\u001b[0m\u001b[1;33m.\u001b[0m\u001b[0mndim\u001b[0m \u001b[1;33m!=\u001b[0m \u001b[1;36m1\u001b[0m\u001b[1;33m:\u001b[0m\u001b[1;33m\u001b[0m\u001b[1;33m\u001b[0m\u001b[0m\n",
      "\u001b[1;31mTypeError\u001b[0m: only integer scalar arrays can be converted to a scalar index"
     ]
    }
   ],
   "source": [
    "df.groupby('Quarter')"
   ]
  },
  {
   "cell_type": "code",
   "execution_count": null,
   "metadata": {},
   "outputs": [],
   "source": [
    "df['Odd_Even'] = ['odd','even','odd','even','odd','even','odd','even','odd']\n",
    "df"
   ]
  },
  {
   "cell_type": "code",
   "execution_count": null,
   "metadata": {},
   "outputs": [],
   "source": [
    "df.groupby(['Quarter','odd_even'])"
   ]
  },
  {
   "cell_type": "markdown",
   "metadata": {},
   "source": [
    "金融数据"
   ]
  },
  {
   "cell_type": "code",
   "execution_count": 32,
   "metadata": {},
   "outputs": [
    {
     "name": "stdout",
     "output_type": "stream",
     "text": [
      "<class 'pandas.core.frame.DataFrame'>\n",
      "DatetimeIndex: 2576 entries, 2010-01-04 to 2020-03-04\n",
      "Data columns (total 6 columns):\n",
      "High         2576 non-null float64\n",
      "Low          2576 non-null float64\n",
      "Open         2576 non-null float64\n",
      "Close        2576 non-null float64\n",
      "Volume       2576 non-null float64\n",
      "Adj Close    2576 non-null float64\n",
      "dtypes: float64(6)\n",
      "memory usage: 140.9 KB\n"
     ]
    }
   ],
   "source": [
    "import pandas_datareader as web\n",
    "DAX=web.DataReader(name='^GDAXI',data_source='yahoo',start='2010-1-1')\n",
    "DAX.info()"
   ]
  },
  {
   "cell_type": "code",
   "execution_count": 33,
   "metadata": {},
   "outputs": [
    {
     "data": {
      "text/html": [
       "<div>\n",
       "<style scoped>\n",
       "    .dataframe tbody tr th:only-of-type {\n",
       "        vertical-align: middle;\n",
       "    }\n",
       "\n",
       "    .dataframe tbody tr th {\n",
       "        vertical-align: top;\n",
       "    }\n",
       "\n",
       "    .dataframe thead th {\n",
       "        text-align: right;\n",
       "    }\n",
       "</style>\n",
       "<table border=\"1\" class=\"dataframe\">\n",
       "  <thead>\n",
       "    <tr style=\"text-align: right;\">\n",
       "      <th></th>\n",
       "      <th>High</th>\n",
       "      <th>Low</th>\n",
       "      <th>Open</th>\n",
       "      <th>Close</th>\n",
       "      <th>Volume</th>\n",
       "      <th>Adj Close</th>\n",
       "    </tr>\n",
       "    <tr>\n",
       "      <th>Date</th>\n",
       "      <th></th>\n",
       "      <th></th>\n",
       "      <th></th>\n",
       "      <th></th>\n",
       "      <th></th>\n",
       "      <th></th>\n",
       "    </tr>\n",
       "  </thead>\n",
       "  <tbody>\n",
       "    <tr>\n",
       "      <td>2020-02-27</td>\n",
       "      <td>12593.620117</td>\n",
       "      <td>12211.629883</td>\n",
       "      <td>12526.599609</td>\n",
       "      <td>12367.459961</td>\n",
       "      <td>191240900.0</td>\n",
       "      <td>12367.459961</td>\n",
       "    </tr>\n",
       "    <tr>\n",
       "      <td>2020-02-28</td>\n",
       "      <td>12008.589844</td>\n",
       "      <td>11724.120117</td>\n",
       "      <td>11891.870117</td>\n",
       "      <td>11890.349609</td>\n",
       "      <td>274623700.0</td>\n",
       "      <td>11890.349609</td>\n",
       "    </tr>\n",
       "    <tr>\n",
       "      <td>2020-03-02</td>\n",
       "      <td>12121.599609</td>\n",
       "      <td>11624.629883</td>\n",
       "      <td>12030.269531</td>\n",
       "      <td>11857.870117</td>\n",
       "      <td>207214100.0</td>\n",
       "      <td>11857.870117</td>\n",
       "    </tr>\n",
       "    <tr>\n",
       "      <td>2020-03-03</td>\n",
       "      <td>12272.990234</td>\n",
       "      <td>11906.820312</td>\n",
       "      <td>12013.059570</td>\n",
       "      <td>11985.389648</td>\n",
       "      <td>195936600.0</td>\n",
       "      <td>11985.389648</td>\n",
       "    </tr>\n",
       "    <tr>\n",
       "      <td>2020-03-04</td>\n",
       "      <td>12199.820312</td>\n",
       "      <td>11929.240234</td>\n",
       "      <td>11992.589844</td>\n",
       "      <td>12127.690430</td>\n",
       "      <td>147845700.0</td>\n",
       "      <td>12127.690430</td>\n",
       "    </tr>\n",
       "  </tbody>\n",
       "</table>\n",
       "</div>"
      ],
      "text/plain": [
       "                    High           Low          Open         Close  \\\n",
       "Date                                                                 \n",
       "2020-02-27  12593.620117  12211.629883  12526.599609  12367.459961   \n",
       "2020-02-28  12008.589844  11724.120117  11891.870117  11890.349609   \n",
       "2020-03-02  12121.599609  11624.629883  12030.269531  11857.870117   \n",
       "2020-03-03  12272.990234  11906.820312  12013.059570  11985.389648   \n",
       "2020-03-04  12199.820312  11929.240234  11992.589844  12127.690430   \n",
       "\n",
       "                 Volume     Adj Close  \n",
       "Date                                   \n",
       "2020-02-27  191240900.0  12367.459961  \n",
       "2020-02-28  274623700.0  11890.349609  \n",
       "2020-03-02  207214100.0  11857.870117  \n",
       "2020-03-03  195936600.0  11985.389648  \n",
       "2020-03-04  147845700.0  12127.690430  "
      ]
     },
     "execution_count": 33,
     "metadata": {},
     "output_type": "execute_result"
    }
   ],
   "source": [
    "DAX.tail()"
   ]
  },
  {
   "cell_type": "code",
   "execution_count": 34,
   "metadata": {},
   "outputs": [
    {
     "data": {
      "text/plain": [
       "<matplotlib.axes._subplots.AxesSubplot at 0x1d03d273d48>"
      ]
     },
     "execution_count": 34,
     "metadata": {},
     "output_type": "execute_result"
    },
    {
     "data": {
      "image/png": "[encoded data removed]",
      "text/plain": [
       "<Figure size 576x360 with 1 Axes>"
      ]
     },
     "metadata": {
      "needs_background": "light"
     },
     "output_type": "display_data"
    }
   ],
   "source": [
    "DAX['Close'].plot(figsize=(8,5))"
   ]
  },
  {
   "cell_type": "code",
   "execution_count": 35,
   "metadata": {},
   "outputs": [
    {
     "name": "stdout",
     "output_type": "stream",
     "text": [
      "Wall time: 796 ms\n"
     ]
    }
   ],
   "source": [
    "%%time\n",
    "DAX['Ret_Loop']=0.0\n",
    "for i in range(1,len(DAX)):\n",
    "    DAX['Ret_Loop'][i]=np.log(DAX['Close'][i]/\n",
    "                             DAX['Close'][i-1])"
   ]
  },
  {
   "cell_type": "code",
   "execution_count": 36,
   "metadata": {},
   "outputs": [
    {
     "data": {
      "text/html": [
       "<div>\n",
       "<style scoped>\n",
       "    .dataframe tbody tr th:only-of-type {\n",
       "        vertical-align: middle;\n",
       "    }\n",
       "\n",
       "    .dataframe tbody tr th {\n",
       "        vertical-align: top;\n",
       "    }\n",
       "\n",
       "    .dataframe thead th {\n",
       "        text-align: right;\n",
       "    }\n",
       "</style>\n",
       "<table border=\"1\" class=\"dataframe\">\n",
       "  <thead>\n",
       "    <tr style=\"text-align: right;\">\n",
       "      <th></th>\n",
       "      <th>Close</th>\n",
       "      <th>Ret_Loop</th>\n",
       "    </tr>\n",
       "    <tr>\n",
       "      <th>Date</th>\n",
       "      <th></th>\n",
       "      <th></th>\n",
       "    </tr>\n",
       "  </thead>\n",
       "  <tbody>\n",
       "    <tr>\n",
       "      <td>2020-02-27</td>\n",
       "      <td>12367.459961</td>\n",
       "      <td>-0.032412</td>\n",
       "    </tr>\n",
       "    <tr>\n",
       "      <td>2020-02-28</td>\n",
       "      <td>11890.349609</td>\n",
       "      <td>-0.039342</td>\n",
       "    </tr>\n",
       "    <tr>\n",
       "      <td>2020-03-02</td>\n",
       "      <td>11857.870117</td>\n",
       "      <td>-0.002735</td>\n",
       "    </tr>\n",
       "    <tr>\n",
       "      <td>2020-03-03</td>\n",
       "      <td>11985.389648</td>\n",
       "      <td>0.010697</td>\n",
       "    </tr>\n",
       "    <tr>\n",
       "      <td>2020-03-04</td>\n",
       "      <td>12127.690430</td>\n",
       "      <td>0.011803</td>\n",
       "    </tr>\n",
       "  </tbody>\n",
       "</table>\n",
       "</div>"
      ],
      "text/plain": [
       "                   Close  Ret_Loop\n",
       "Date                              \n",
       "2020-02-27  12367.459961 -0.032412\n",
       "2020-02-28  11890.349609 -0.039342\n",
       "2020-03-02  11857.870117 -0.002735\n",
       "2020-03-03  11985.389648  0.010697\n",
       "2020-03-04  12127.690430  0.011803"
      ]
     },
     "execution_count": 36,
     "metadata": {},
     "output_type": "execute_result"
    }
   ],
   "source": [
    "DAX[['Close','Ret_Loop']].tail()"
   ]
  },
  {
   "cell_type": "code",
   "execution_count": 37,
   "metadata": {},
   "outputs": [
    {
     "name": "stdout",
     "output_type": "stream",
     "text": [
      "Wall time: 13 ms\n"
     ]
    }
   ],
   "source": [
    "%time DAX['Return']=np.log(DAX['Close'] / DAX['Close'].shift(1))"
   ]
  },
  {
   "cell_type": "code",
   "execution_count": 38,
   "metadata": {},
   "outputs": [
    {
     "data": {
      "text/html": [
       "<div>\n",
       "<style scoped>\n",
       "    .dataframe tbody tr th:only-of-type {\n",
       "        vertical-align: middle;\n",
       "    }\n",
       "\n",
       "    .dataframe tbody tr th {\n",
       "        vertical-align: top;\n",
       "    }\n",
       "\n",
       "    .dataframe thead th {\n",
       "        text-align: right;\n",
       "    }\n",
       "</style>\n",
       "<table border=\"1\" class=\"dataframe\">\n",
       "  <thead>\n",
       "    <tr style=\"text-align: right;\">\n",
       "      <th></th>\n",
       "      <th>Close</th>\n",
       "      <th>Ret_Loop</th>\n",
       "      <th>Return</th>\n",
       "    </tr>\n",
       "    <tr>\n",
       "      <th>Date</th>\n",
       "      <th></th>\n",
       "      <th></th>\n",
       "      <th></th>\n",
       "    </tr>\n",
       "  </thead>\n",
       "  <tbody>\n",
       "    <tr>\n",
       "      <td>2020-02-27</td>\n",
       "      <td>12367.459961</td>\n",
       "      <td>-0.032412</td>\n",
       "      <td>-0.032412</td>\n",
       "    </tr>\n",
       "    <tr>\n",
       "      <td>2020-02-28</td>\n",
       "      <td>11890.349609</td>\n",
       "      <td>-0.039342</td>\n",
       "      <td>-0.039342</td>\n",
       "    </tr>\n",
       "    <tr>\n",
       "      <td>2020-03-02</td>\n",
       "      <td>11857.870117</td>\n",
       "      <td>-0.002735</td>\n",
       "      <td>-0.002735</td>\n",
       "    </tr>\n",
       "    <tr>\n",
       "      <td>2020-03-03</td>\n",
       "      <td>11985.389648</td>\n",
       "      <td>0.010697</td>\n",
       "      <td>0.010697</td>\n",
       "    </tr>\n",
       "    <tr>\n",
       "      <td>2020-03-04</td>\n",
       "      <td>12127.690430</td>\n",
       "      <td>0.011803</td>\n",
       "      <td>0.011803</td>\n",
       "    </tr>\n",
       "  </tbody>\n",
       "</table>\n",
       "</div>"
      ],
      "text/plain": [
       "                   Close  Ret_Loop    Return\n",
       "Date                                        \n",
       "2020-02-27  12367.459961 -0.032412 -0.032412\n",
       "2020-02-28  11890.349609 -0.039342 -0.039342\n",
       "2020-03-02  11857.870117 -0.002735 -0.002735\n",
       "2020-03-03  11985.389648  0.010697  0.010697\n",
       "2020-03-04  12127.690430  0.011803  0.011803"
      ]
     },
     "execution_count": 38,
     "metadata": {},
     "output_type": "execute_result"
    }
   ],
   "source": [
    "DAX[['Close','Ret_Loop','Return']].tail()"
   ]
  },
  {
   "cell_type": "code",
   "execution_count": 39,
   "metadata": {},
   "outputs": [],
   "source": [
    "del DAX['Ret_Loop']"
   ]
  },
  {
   "cell_type": "code",
   "execution_count": 40,
   "metadata": {},
   "outputs": [
    {
     "data": {
      "text/plain": [
       "array([<matplotlib.axes._subplots.AxesSubplot object at 0x000001D03E743D48>,\n",
       "       <matplotlib.axes._subplots.AxesSubplot object at 0x000001D03E313C08>],\n",
       "      dtype=object)"
      ]
     },
     "execution_count": 40,
     "metadata": {},
     "output_type": "execute_result"
    },
    {
     "data": {
      "image/png": "[encoded data removed]",
      "text/plain": [
       "<Figure size 576x360 with 2 Axes>"
      ]
     },
     "metadata": {
      "needs_background": "light"
     },
     "output_type": "display_data"
    }
   ],
   "source": [
    "DAX[['Close','Return']].plot(subplots=True,style='b',figsize=(8,5))"
   ]
  },
  {
   "cell_type": "code",
   "execution_count": 41,
   "metadata": {},
   "outputs": [
    {
     "data": {
      "text/html": [
       "<div>\n",
       "<style scoped>\n",
       "    .dataframe tbody tr th:only-of-type {\n",
       "        vertical-align: middle;\n",
       "    }\n",
       "\n",
       "    .dataframe tbody tr th {\n",
       "        vertical-align: top;\n",
       "    }\n",
       "\n",
       "    .dataframe thead th {\n",
       "        text-align: right;\n",
       "    }\n",
       "</style>\n",
       "<table border=\"1\" class=\"dataframe\">\n",
       "  <thead>\n",
       "    <tr style=\"text-align: right;\">\n",
       "      <th></th>\n",
       "      <th>Close</th>\n",
       "      <th>42d</th>\n",
       "      <th>252d</th>\n",
       "    </tr>\n",
       "    <tr>\n",
       "      <th>Date</th>\n",
       "      <th></th>\n",
       "      <th></th>\n",
       "      <th></th>\n",
       "    </tr>\n",
       "  </thead>\n",
       "  <tbody>\n",
       "    <tr>\n",
       "      <td>2020-02-27</td>\n",
       "      <td>12367.459961</td>\n",
       "      <td>13383.837821</td>\n",
       "      <td>12477.058900</td>\n",
       "    </tr>\n",
       "    <tr>\n",
       "      <td>2020-02-28</td>\n",
       "      <td>11890.349609</td>\n",
       "      <td>13351.488770</td>\n",
       "      <td>12478.658184</td>\n",
       "    </tr>\n",
       "    <tr>\n",
       "      <td>2020-03-02</td>\n",
       "      <td>11857.870117</td>\n",
       "      <td>13315.106399</td>\n",
       "      <td>12480.016241</td>\n",
       "    </tr>\n",
       "    <tr>\n",
       "      <td>2020-03-03</td>\n",
       "      <td>11985.389648</td>\n",
       "      <td>13285.731399</td>\n",
       "      <td>12481.538900</td>\n",
       "    </tr>\n",
       "    <tr>\n",
       "      <td>2020-03-04</td>\n",
       "      <td>12127.690430</td>\n",
       "      <td>13261.938546</td>\n",
       "      <td>12483.662036</td>\n",
       "    </tr>\n",
       "  </tbody>\n",
       "</table>\n",
       "</div>"
      ],
      "text/plain": [
       "                   Close           42d          252d\n",
       "Date                                                \n",
       "2020-02-27  12367.459961  13383.837821  12477.058900\n",
       "2020-02-28  11890.349609  13351.488770  12478.658184\n",
       "2020-03-02  11857.870117  13315.106399  12480.016241\n",
       "2020-03-03  11985.389648  13285.731399  12481.538900\n",
       "2020-03-04  12127.690430  13261.938546  12483.662036"
      ]
     },
     "execution_count": 41,
     "metadata": {},
     "output_type": "execute_result"
    }
   ],
   "source": [
    "DAX['42d']=DAX['Close'].rolling(42).mean()\n",
    "DAX['252d']=DAX['Close'].rolling(252).mean()\n",
    "DAX[['Close','42d','252d']].tail()"
   ]
  },
  {
   "cell_type": "code",
   "execution_count": 42,
   "metadata": {},
   "outputs": [
    {
     "data": {
      "text/plain": [
       "<matplotlib.axes._subplots.AxesSubplot at 0x1d03e3ecfc8>"
      ]
     },
     "execution_count": 42,
     "metadata": {},
     "output_type": "execute_result"
    },
    {
     "data": {
      "image/png": "[encoded data removed]",
      "text/plain": [
       "<Figure size 576x360 with 1 Axes>"
      ]
     },
     "metadata": {
      "needs_background": "light"
     },
     "output_type": "display_data"
    }
   ],
   "source": [
    "DAX[['Close','42d','252d']].plot(figsize=(8,5))"
   ]
  },
  {
   "cell_type": "code",
   "execution_count": 43,
   "metadata": {},
   "outputs": [],
   "source": [
    "import math\n",
    "DAX['Mov_Vol'] = DAX['Return'].rolling(252).std()*math.sqrt(252)"
   ]
  },
  {
   "cell_type": "code",
   "execution_count": 44,
   "metadata": {},
   "outputs": [
    {
     "data": {
      "text/plain": [
       "array([<matplotlib.axes._subplots.AxesSubplot object at 0x000001D03E4AC808>,\n",
       "       <matplotlib.axes._subplots.AxesSubplot object at 0x000001D03E4DC3C8>,\n",
       "       <matplotlib.axes._subplots.AxesSubplot object at 0x000001D03E4A5448>],\n",
       "      dtype=object)"
      ]
     },
     "execution_count": 44,
     "metadata": {},
     "output_type": "execute_result"
    },
    {
     "data": {
      "image/png": "[encoded data removed]",
      "text/plain": [
       "<Figure size 576x504 with 3 Axes>"
      ]
     },
     "metadata": {
      "needs_background": "light"
     },
     "output_type": "display_data"
    }
   ],
   "source": [
    "DAX[['Close','Mov_Vol','Return']].plot(subplots=True,style='b',figsize=(8,7))"
   ]
  },
  {
   "cell_type": "markdown",
   "metadata": {},
   "source": [
    "回归分析"
   ]
  },
  {
   "cell_type": "raw",
   "metadata": {},
   "source": [
    "EURO STOXX50\n",
    "STOXX50指数的历史每日收益价，该指数由欧洲蓝筹股价组成\n",
    "\n",
    "VSTOXX\n",
    "VSTOXX波动率指数历史每日收益价，在EURO STOXX50指数期权隐含波动率基础上计算"
   ]
  },
  {
   "cell_type": "code",
   "execution_count": 45,
   "metadata": {},
   "outputs": [
    {
     "data": {
      "text/plain": [
       "['PriceIndices-EUROCurrency\\n',\n",
       " 'Date;Blue-Chip;Blue-Chip;Broad;Broad;ExUK;ExEuroZone;Blue-Chip;Broad\\n',\n",
       " ';Europe;Euro-Zone;Europe;Euro-Zone;;;Nordic;Nordic\\n',\n",
       " ';SX5P;SX5E;SXXP;SXXE;SXXF;SXXA;DK5F;DKXF\\n',\n",
       " '31.12.1986;775.00;900.82;82.76;98.58;98.06;69.06;645.26;65.56\\n',\n",
       " '01.01.1987;775.00;900.82;82.76;98.58;98.06;69.06;645.26;65.56\\n']"
      ]
     },
     "execution_count": 45,
     "metadata": {},
     "output_type": "execute_result"
    }
   ],
   "source": [
    "lines = open('D:/Python/exercise/es.txt','r').readlines()\n",
    "lines = [line.replace(' ',\"\") for line in lines]\n",
    "lines[:6]"
   ]
  },
  {
   "cell_type": "code",
   "execution_count": 46,
   "metadata": {},
   "outputs": [],
   "source": [
    "for line in lines[3883:3890]:\n",
    "    print(line[41:])"
   ]
  },
  {
   "cell_type": "code",
   "execution_count": 47,
   "metadata": {},
   "outputs": [],
   "source": [
    "\"\"\"\n",
    "优化数据集：\n",
    "1.生成一个新的文本文件\n",
    "2.删除不需要的标题行\n",
    "3.在新文件中写入对应的新标题行\n",
    "4.添加一个辅助列DEL（捕捉最后的分号）\n",
    "5.将所有数据行写入新文件\n",
    "\"\"\"\n",
    "new_file = open('D:/Python/exercise/es50.txt','w')\n",
    "new_file.writelines('date'+lines[3][:-1]\n",
    "                   +';DEL'+lines[3][-1])\n",
    "new_file.writelines(lines[4:])\n",
    "new_file.close()"
   ]
  },
  {
   "cell_type": "code",
   "execution_count": 48,
   "metadata": {},
   "outputs": [
    {
     "data": {
      "text/plain": [
       "['date;SX5P;SX5E;SXXP;SXXE;SXXF;SXXA;DK5F;DKXF;DEL\\n',\n",
       " '31.12.1986;775.00;900.82;82.76;98.58;98.06;69.06;645.26;65.56\\n',\n",
       " '01.01.1987;775.00;900.82;82.76;98.58;98.06;69.06;645.26;65.56\\n',\n",
       " '02.01.1987;770.89;891.78;82.57;97.80;97.43;69.37;647.62;65.81\\n',\n",
       " '05.01.1987;771.89;898.33;82.82;98.60;98.19;69.16;649.94;65.82\\n']"
      ]
     },
     "execution_count": 48,
     "metadata": {},
     "output_type": "execute_result"
    }
   ],
   "source": [
    "new_lines = open('D:/python/exercise/es50.txt','r').readlines()\n",
    "new_lines[:5]"
   ]
  },
  {
   "cell_type": "code",
   "execution_count": 50,
   "metadata": {},
   "outputs": [
    {
     "data": {
      "text/html": [
       "<div>\n",
       "<style scoped>\n",
       "    .dataframe tbody tr th:only-of-type {\n",
       "        vertical-align: middle;\n",
       "    }\n",
       "\n",
       "    .dataframe tbody tr th {\n",
       "        vertical-align: top;\n",
       "    }\n",
       "\n",
       "    .dataframe thead th {\n",
       "        text-align: right;\n",
       "    }\n",
       "</style>\n",
       "<table border=\"1\" class=\"dataframe\">\n",
       "  <thead>\n",
       "    <tr style=\"text-align: right;\">\n",
       "      <th></th>\n",
       "      <th>SX5P</th>\n",
       "      <th>SX5E</th>\n",
       "      <th>SXXP</th>\n",
       "      <th>SXXE</th>\n",
       "      <th>SXXF</th>\n",
       "      <th>SXXA</th>\n",
       "      <th>DK5F</th>\n",
       "      <th>DKXF</th>\n",
       "    </tr>\n",
       "  </thead>\n",
       "  <tbody>\n",
       "    <tr>\n",
       "      <td>2016-09-28</td>\n",
       "      <td>2846.55</td>\n",
       "      <td>2991.11</td>\n",
       "      <td>342.57</td>\n",
       "      <td>324.24</td>\n",
       "      <td>407.97</td>\n",
       "      <td>350.45</td>\n",
       "      <td>9072.09</td>\n",
       "      <td>581.27</td>\n",
       "    </tr>\n",
       "    <tr>\n",
       "      <td>2016-09-29</td>\n",
       "      <td>2848.93</td>\n",
       "      <td>2991.58</td>\n",
       "      <td>342.72</td>\n",
       "      <td>324.08</td>\n",
       "      <td>407.65</td>\n",
       "      <td>350.90</td>\n",
       "      <td>9112.09</td>\n",
       "      <td>582.60</td>\n",
       "    </tr>\n",
       "    <tr>\n",
       "      <td>2016-09-30</td>\n",
       "      <td>2843.17</td>\n",
       "      <td>3002.24</td>\n",
       "      <td>342.92</td>\n",
       "      <td>325.31</td>\n",
       "      <td>408.27</td>\n",
       "      <td>350.09</td>\n",
       "      <td>9115.81</td>\n",
       "      <td>583.26</td>\n",
       "    </tr>\n",
       "    <tr>\n",
       "      <td>2016-10-03</td>\n",
       "      <td>2845.43</td>\n",
       "      <td>2998.50</td>\n",
       "      <td>343.23</td>\n",
       "      <td>325.08</td>\n",
       "      <td>408.44</td>\n",
       "      <td>350.92</td>\n",
       "      <td>9131.24</td>\n",
       "      <td>584.32</td>\n",
       "    </tr>\n",
       "    <tr>\n",
       "      <td>2016-10-04</td>\n",
       "      <td>2871.06</td>\n",
       "      <td>3029.50</td>\n",
       "      <td>346.10</td>\n",
       "      <td>327.73</td>\n",
       "      <td>411.41</td>\n",
       "      <td>353.92</td>\n",
       "      <td>9212.05</td>\n",
       "      <td>588.71</td>\n",
       "    </tr>\n",
       "  </tbody>\n",
       "</table>\n",
       "</div>"
      ],
      "text/plain": [
       "               SX5P     SX5E    SXXP    SXXE    SXXF    SXXA     DK5F    DKXF\n",
       "2016-09-28  2846.55  2991.11  342.57  324.24  407.97  350.45  9072.09  581.27\n",
       "2016-09-29  2848.93  2991.58  342.72  324.08  407.65  350.90  9112.09  582.60\n",
       "2016-09-30  2843.17  3002.24  342.92  325.31  408.27  350.09  9115.81  583.26\n",
       "2016-10-03  2845.43  2998.50  343.23  325.08  408.44  350.92  9131.24  584.32\n",
       "2016-10-04  2871.06  3029.50  346.10  327.73  411.41  353.92  9212.05  588.71"
      ]
     },
     "execution_count": 50,
     "metadata": {},
     "output_type": "execute_result"
    }
   ],
   "source": [
    "cols=['SX5P','SX5E','SXXP','SXXE','SXXF',\n",
    "      'SXXA','DK5F','DKXF']\n",
    "es_url='http://www.stoxx.com/download/historical_values/hbrbcpe.txt'\n",
    "es=pd.read_csv(es_url, index_col=0, parse_dates=True,\n",
    "              sep=';',dayfirst=True,header=None, skiprows=4,names=cols)\n",
    "es.tail()"
   ]
  },
  {
   "cell_type": "code",
   "execution_count": 51,
   "metadata": {},
   "outputs": [
    {
     "name": "stdout",
     "output_type": "stream",
     "text": [
      "<class 'pandas.core.frame.DataFrame'>\n",
      "DatetimeIndex: 4357 entries, 1999-01-04 to 2016-02-12\n",
      "Data columns (total 9 columns):\n",
      "V2TX    4357 non-null float64\n",
      "V6I1    3906 non-null float64\n",
      "V6I2    4357 non-null float64\n",
      "V6I3    4296 non-null float64\n",
      "V6I4    4357 non-null float64\n",
      "V6I5    4357 non-null float64\n",
      "V6I6    4340 non-null float64\n",
      "V6I7    4357 non-null float64\n",
      "V6I8    4343 non-null float64\n",
      "dtypes: float64(9)\n",
      "memory usage: 340.4 KB\n"
     ]
    }
   ],
   "source": [
    "vs=pd.read_csv('D:/python/exercise/vs.txt',index_col=0,header=2,\n",
    "              parse_dates=True, sep=',',dayfirst=True)\n",
    "vs.info()"
   ]
  },
  {
   "cell_type": "code",
   "execution_count": 52,
   "metadata": {},
   "outputs": [],
   "source": [
    "import datetime as dt\n",
    "data= pd.DataFrame({'EUROSTOXX':\n",
    "                   es['SX5E'][es.index > dt.datetime(1999,1,1)]})\n",
    "data = data.join(pd.DataFrame({'VSTOXX':\n",
    "                              vs['V2TX'][vs.index>dt.datetime(1999,1,1)]}))"
   ]
  },
  {
   "cell_type": "code",
   "execution_count": 53,
   "metadata": {},
   "outputs": [
    {
     "name": "stdout",
     "output_type": "stream",
     "text": [
      "<class 'pandas.core.frame.DataFrame'>\n",
      "DatetimeIndex: 4554 entries, 1999-01-04 to 2016-10-04\n",
      "Data columns (total 2 columns):\n",
      "EUROSTOXX    4554 non-null float64\n",
      "VSTOXX       4554 non-null float64\n",
      "dtypes: float64(2)\n",
      "memory usage: 266.7 KB\n"
     ]
    }
   ],
   "source": [
    "data = data.fillna(method='ffill')\n",
    "data.info()"
   ]
  },
  {
   "cell_type": "code",
   "execution_count": 54,
   "metadata": {},
   "outputs": [
    {
     "data": {
      "text/plain": [
       "array([<matplotlib.axes._subplots.AxesSubplot object at 0x000001D03E94F348>,\n",
       "       <matplotlib.axes._subplots.AxesSubplot object at 0x000001D03E6C5708>],\n",
       "      dtype=object)"
      ]
     },
     "execution_count": 54,
     "metadata": {},
     "output_type": "execute_result"
    },
    {
     "data": {
      "image/png": "[encoded data removed]",
      "text/plain": [
       "<Figure size 576x432 with 2 Axes>"
      ]
     },
     "metadata": {
      "needs_background": "light"
     },
     "output_type": "display_data"
    }
   ],
   "source": [
    "data.plot(subplots=True, grid=True, style='b',figsize=(8,6))"
   ]
  },
  {
   "cell_type": "code",
   "execution_count": 55,
   "metadata": {},
   "outputs": [
    {
     "name": "stderr",
     "output_type": "stream",
     "text": [
      "D:\\Python\\anaconda\\lib\\site-packages\\ipykernel_launcher.py:1: RuntimeWarning: divide by zero encountered in log\n",
      "  \"\"\"Entry point for launching an IPython kernel.\n"
     ]
    },
    {
     "data": {
      "text/html": [
       "<div>\n",
       "<style scoped>\n",
       "    .dataframe tbody tr th:only-of-type {\n",
       "        vertical-align: middle;\n",
       "    }\n",
       "\n",
       "    .dataframe tbody tr th {\n",
       "        vertical-align: top;\n",
       "    }\n",
       "\n",
       "    .dataframe thead th {\n",
       "        text-align: right;\n",
       "    }\n",
       "</style>\n",
       "<table border=\"1\" class=\"dataframe\">\n",
       "  <thead>\n",
       "    <tr style=\"text-align: right;\">\n",
       "      <th></th>\n",
       "      <th>EUROSTOXX</th>\n",
       "      <th>VSTOXX</th>\n",
       "    </tr>\n",
       "  </thead>\n",
       "  <tbody>\n",
       "    <tr>\n",
       "      <td>1999-01-04</td>\n",
       "      <td>NaN</td>\n",
       "      <td>NaN</td>\n",
       "    </tr>\n",
       "    <tr>\n",
       "      <td>1999-01-05</td>\n",
       "      <td>0.017228</td>\n",
       "      <td>0.489248</td>\n",
       "    </tr>\n",
       "    <tr>\n",
       "      <td>1999-01-06</td>\n",
       "      <td>0.022138</td>\n",
       "      <td>-0.165317</td>\n",
       "    </tr>\n",
       "    <tr>\n",
       "      <td>1999-01-07</td>\n",
       "      <td>-0.015723</td>\n",
       "      <td>0.256337</td>\n",
       "    </tr>\n",
       "    <tr>\n",
       "      <td>1999-01-08</td>\n",
       "      <td>-0.003120</td>\n",
       "      <td>0.021570</td>\n",
       "    </tr>\n",
       "  </tbody>\n",
       "</table>\n",
       "</div>"
      ],
      "text/plain": [
       "            EUROSTOXX    VSTOXX\n",
       "1999-01-04        NaN       NaN\n",
       "1999-01-05   0.017228  0.489248\n",
       "1999-01-06   0.022138 -0.165317\n",
       "1999-01-07  -0.015723  0.256337\n",
       "1999-01-08  -0.003120  0.021570"
      ]
     },
     "execution_count": 55,
     "metadata": {},
     "output_type": "execute_result"
    }
   ],
   "source": [
    "rets=np.log(data/data.shift(1))\n",
    "rets.head()"
   ]
  },
  {
   "cell_type": "code",
   "execution_count": 56,
   "metadata": {},
   "outputs": [
    {
     "data": {
      "text/plain": [
       "array([<matplotlib.axes._subplots.AxesSubplot object at 0x000001D03E60EF08>,\n",
       "       <matplotlib.axes._subplots.AxesSubplot object at 0x000001D03E6967C8>],\n",
       "      dtype=object)"
      ]
     },
     "execution_count": 56,
     "metadata": {},
     "output_type": "execute_result"
    },
    {
     "data": {
      "image/png": "[encoded data removed]",
      "text/plain": [
       "<Figure size 576x432 with 2 Axes>"
      ]
     },
     "metadata": {
      "needs_background": "light"
     },
     "output_type": "display_data"
    }
   ],
   "source": [
    "rets.plot(subplots=True, grid=True, style='b',figsize=(8,6))"
   ]
  },
  {
   "cell_type": "code",
   "execution_count": 77,
   "metadata": {},
   "outputs": [
    {
     "data": {
      "text/plain": [
       "<statsmodels.regression.linear_model.RegressionResultsWrapper at 0x1d041040e48>"
      ]
     },
     "execution_count": 77,
     "metadata": {},
     "output_type": "execute_result"
    }
   ],
   "source": [
    "import statsmodels.api as sm\n",
    "rets[np.isnan(rets)]=0\n",
    "rets[np.isinf(rets)]=0\n",
    "xdat=sm.add_constant(rets['EUROSTOXX'])\n",
    "ydat=rets['VSTOXX']\n",
    "model = sm.OLS(ydat,xdat).fit()\n",
    "model"
   ]
  },
  {
   "cell_type": "code",
   "execution_count": 79,
   "metadata": {},
   "outputs": [
    {
     "data": {
      "text/html": [
       "<table class=\"simpletable\">\n",
       "<caption>OLS Regression Results</caption>\n",
       "<tr>\n",
       "  <th>Dep. Variable:</th>         <td>VSTOXX</td>      <th>  R-squared:         </th>  <td>   0.526</td> \n",
       "</tr>\n",
       "<tr>\n",
       "  <th>Model:</th>                   <td>OLS</td>       <th>  Adj. R-squared:    </th>  <td>   0.525</td> \n",
       "</tr>\n",
       "<tr>\n",
       "  <th>Method:</th>             <td>Least Squares</td>  <th>  F-statistic:       </th>  <td>   5042.</td> \n",
       "</tr>\n",
       "<tr>\n",
       "  <th>Date:</th>             <td>Thu, 05 Mar 2020</td> <th>  Prob (F-statistic):</th>   <td>  0.00</td>  \n",
       "</tr>\n",
       "<tr>\n",
       "  <th>Time:</th>                 <td>14:45:56</td>     <th>  Log-Likelihood:    </th>  <td>  8271.0</td> \n",
       "</tr>\n",
       "<tr>\n",
       "  <th>No. Observations:</th>      <td>  4554</td>      <th>  AIC:               </th> <td>-1.654e+04</td>\n",
       "</tr>\n",
       "<tr>\n",
       "  <th>Df Residuals:</th>          <td>  4552</td>      <th>  BIC:               </th> <td>-1.653e+04</td>\n",
       "</tr>\n",
       "<tr>\n",
       "  <th>Df Model:</th>              <td>     1</td>      <th>                     </th>      <td> </td>    \n",
       "</tr>\n",
       "<tr>\n",
       "  <th>Covariance Type:</th>      <td>nonrobust</td>    <th>                     </th>      <td> </td>    \n",
       "</tr>\n",
       "</table>\n",
       "<table class=\"simpletable\">\n",
       "<tr>\n",
       "      <td></td>         <th>coef</th>     <th>std err</th>      <th>t</th>      <th>P>|t|</th>  <th>[0.025</th>    <th>0.975]</th>  \n",
       "</tr>\n",
       "<tr>\n",
       "  <th>const</th>     <td> 4.945e-05</td> <td>    0.001</td> <td>    0.085</td> <td> 0.932</td> <td>   -0.001</td> <td>    0.001</td>\n",
       "</tr>\n",
       "<tr>\n",
       "  <th>EUROSTOXX</th> <td>   -2.7539</td> <td>    0.039</td> <td>  -71.008</td> <td> 0.000</td> <td>   -2.830</td> <td>   -2.678</td>\n",
       "</tr>\n",
       "</table>\n",
       "<table class=\"simpletable\">\n",
       "<tr>\n",
       "  <th>Omnibus:</th>       <td>1298.505</td> <th>  Durbin-Watson:     </th> <td>   2.084</td> \n",
       "</tr>\n",
       "<tr>\n",
       "  <th>Prob(Omnibus):</th>  <td> 0.000</td>  <th>  Jarque-Bera (JB):  </th> <td>24719.917</td>\n",
       "</tr>\n",
       "<tr>\n",
       "  <th>Skew:</th>           <td> 0.875</td>  <th>  Prob(JB):          </th> <td>    0.00</td> \n",
       "</tr>\n",
       "<tr>\n",
       "  <th>Kurtosis:</th>       <td>14.279</td>  <th>  Cond. No.          </th> <td>    66.5</td> \n",
       "</tr>\n",
       "</table><br/><br/>Warnings:<br/>[1] Standard Errors assume that the covariance matrix of the errors is correctly specified."
      ],
      "text/plain": [
       "<class 'statsmodels.iolib.summary.Summary'>\n",
       "\"\"\"\n",
       "                            OLS Regression Results                            \n",
       "==============================================================================\n",
       "Dep. Variable:                 VSTOXX   R-squared:                       0.526\n",
       "Model:                            OLS   Adj. R-squared:                  0.525\n",
       "Method:                 Least Squares   F-statistic:                     5042.\n",
       "Date:                Thu, 05 Mar 2020   Prob (F-statistic):               0.00\n",
       "Time:                        14:45:56   Log-Likelihood:                 8271.0\n",
       "No. Observations:                4554   AIC:                        -1.654e+04\n",
       "Df Residuals:                    4552   BIC:                        -1.653e+04\n",
       "Df Model:                           1                                         \n",
       "Covariance Type:            nonrobust                                         \n",
       "==============================================================================\n",
       "                 coef    std err          t      P>|t|      [0.025      0.975]\n",
       "------------------------------------------------------------------------------\n",
       "const       4.945e-05      0.001      0.085      0.932      -0.001       0.001\n",
       "EUROSTOXX     -2.7539      0.039    -71.008      0.000      -2.830      -2.678\n",
       "==============================================================================\n",
       "Omnibus:                     1298.505   Durbin-Watson:                   2.084\n",
       "Prob(Omnibus):                  0.000   Jarque-Bera (JB):            24719.917\n",
       "Skew:                           0.875   Prob(JB):                         0.00\n",
       "Kurtosis:                      14.279   Cond. No.                         66.5\n",
       "==============================================================================\n",
       "\n",
       "Warnings:\n",
       "[1] Standard Errors assume that the covariance matrix of the errors is correctly specified.\n",
       "\"\"\""
      ]
     },
     "execution_count": 79,
     "metadata": {},
     "output_type": "execute_result"
    }
   ],
   "source": [
    "model.summary()"
   ]
  },
  {
   "cell_type": "code",
   "execution_count": 84,
   "metadata": {},
   "outputs": [
    {
     "data": {
      "text/plain": [
       "Text(0, 0.5, 'VSTOXX returns')"
      ]
     },
     "execution_count": 84,
     "metadata": {},
     "output_type": "execute_result"
    },
    {
     "data": {
      "image/png": "[encoded data removed]",
      "text/plain": [
       "<Figure size 432x288 with 1 Axes>"
      ]
     },
     "metadata": {
      "needs_background": "light"
     },
     "output_type": "display_data"
    }
   ],
   "source": [
    "plt.plot(xdat, ydat,'r.')\n",
    "ax=plt.axis()\n",
    "x=np.linspace(ax[0], ax[1]+0.01)\n",
    "plt.plot(rets['EUROSTOXX'],model.params.const+model.params.EUROSTOXX*rets['EUROSTOXX'],'b',lw=2)\n",
    "plt.grid(True)\n",
    "plt.axis('tight')\n",
    "plt.xlabel('EURO STOXX 50 returns')\n",
    "plt.ylabel('VSTOXX returns')"
   ]
  },
  {
   "cell_type": "code",
   "execution_count": 81,
   "metadata": {},
   "outputs": [
    {
     "data": {
      "text/html": [
       "<div>\n",
       "<style scoped>\n",
       "    .dataframe tbody tr th:only-of-type {\n",
       "        vertical-align: middle;\n",
       "    }\n",
       "\n",
       "    .dataframe tbody tr th {\n",
       "        vertical-align: top;\n",
       "    }\n",
       "\n",
       "    .dataframe thead th {\n",
       "        text-align: right;\n",
       "    }\n",
       "</style>\n",
       "<table border=\"1\" class=\"dataframe\">\n",
       "  <thead>\n",
       "    <tr style=\"text-align: right;\">\n",
       "      <th></th>\n",
       "      <th>EUROSTOXX</th>\n",
       "      <th>VSTOXX</th>\n",
       "    </tr>\n",
       "  </thead>\n",
       "  <tbody>\n",
       "    <tr>\n",
       "      <td>EUROSTOXX</td>\n",
       "      <td>1.000000</td>\n",
       "      <td>-0.724945</td>\n",
       "    </tr>\n",
       "    <tr>\n",
       "      <td>VSTOXX</td>\n",
       "      <td>-0.724945</td>\n",
       "      <td>1.000000</td>\n",
       "    </tr>\n",
       "  </tbody>\n",
       "</table>\n",
       "</div>"
      ],
      "text/plain": [
       "           EUROSTOXX    VSTOXX\n",
       "EUROSTOXX   1.000000 -0.724945\n",
       "VSTOXX     -0.724945  1.000000"
      ]
     },
     "execution_count": 81,
     "metadata": {},
     "output_type": "execute_result"
    }
   ],
   "source": [
    "rets.corr()"
   ]
  },
  {
   "cell_type": "code",
   "execution_count": 85,
   "metadata": {},
   "outputs": [
    {
     "data": {
      "text/plain": [
       "<matplotlib.axes._subplots.AxesSubplot at 0x1d0426c8508>"
      ]
     },
     "execution_count": 85,
     "metadata": {},
     "output_type": "execute_result"
    },
    {
     "data": {
      "image/png": "[encoded data removed]",
      "text/plain": [
       "<Figure size 432x288 with 1 Axes>"
      ]
     },
     "metadata": {
      "needs_background": "light"
     },
     "output_type": "display_data"
    }
   ],
   "source": [
    "rets['EUROSTOXX'].rolling(252).corr(rets['VSTOXX']).plot(grid=True, style='b')"
   ]
  }
 ],
 "metadata": {
  "kernelspec": {
   "display_name": "Python 3",
   "language": "python",
   "name": "python3"
  },
  "language_info": {
   "codemirror_mode": {
    "name": "ipython",
    "version": 3
   },
   "file_extension": ".py",
   "mimetype": "text/x-python",
   "name": "python",
   "nbconvert_exporter": "python",
   "pygments_lexer": "ipython3",
   "version": "3.7.4"
  }
 },
 "nbformat": 4,
 "nbformat_minor": 2
}
